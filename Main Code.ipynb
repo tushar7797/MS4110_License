{
 "cells": [
  {
   "cell_type": "code",
   "execution_count": 5,
   "metadata": {
    "colab": {
     "base_uri": "https://localhost:8080/",
     "height": 127
    },
    "colab_type": "code",
    "id": "Z4jMRHlUWrQZ",
    "outputId": "1262558d-9c3e-464d-96bd-8a024f7d53d7"
   },
   "outputs": [
    {
     "name": "stdout",
     "output_type": "stream",
     "text": [
      "Go to this URL in a browser: https://accounts.google.com/o/oauth2/auth?client_id=947318989803-6bn6qk8qdgf4n4g3pfee6491hc0brc4i.apps.googleusercontent.com&redirect_uri=urn%3Aietf%3Awg%3Aoauth%3A2.0%3Aoob&scope=email%20https%3A%2F%2Fwww.googleapis.com%2Fauth%2Fdocs.test%20https%3A%2F%2Fwww.googleapis.com%2Fauth%2Fdrive%20https%3A%2F%2Fwww.googleapis.com%2Fauth%2Fdrive.photos.readonly%20https%3A%2F%2Fwww.googleapis.com%2Fauth%2Fpeopleapi.readonly&response_type=code\n",
      "\n",
      "Enter your authorization code:\n",
      "··········\n",
      "Mounted at /content/drive\n"
     ]
    }
   ],
   "source": [
    "#Load the Drive helper and mount\n",
    "from google.colab import drive\n",
    "\n",
    "#This will prompt for authorization.\n",
    "drive.mount('/content/drive')"
   ]
  },
  {
   "cell_type": "markdown",
   "metadata": {
    "colab_type": "text",
    "id": "I0LNuv5cDF-i"
   },
   "source": [
    "**In order to run the code set \"path\" to the directory just above the .csv file**\n"
   ]
  },
  {
   "cell_type": "code",
   "execution_count": 0,
   "metadata": {
    "colab": {},
    "colab_type": "code",
    "id": "DNWgN7ADYjfk"
   },
   "outputs": [],
   "source": [
    "#importing neceassary libraries\n",
    "import numpy as np\n",
    "import pandas as pd\n",
    "import sklearn\n",
    "from matplotlib import pyplot as plt\n",
    "import pickle\n",
    "%matplotlib inline\n",
    "path = 'drive/My Drive/data_analytics/'\n",
    "    \n"
   ]
  },
  {
   "cell_type": "markdown",
   "metadata": {
    "colab_type": "text",
    "id": "svKm9elECOs9"
   },
   "source": [
    "# Label Encoding and Preprocessing of Data"
   ]
  },
  {
   "cell_type": "code",
   "execution_count": 0,
   "metadata": {
    "colab": {},
    "colab_type": "code",
    "id": "gG7OYlpLaCwG"
   },
   "outputs": [],
   "source": [
    "#loading the dataset\n",
    "data = pd.read_csv(path + 'License.csv')"
   ]
  },
  {
   "cell_type": "code",
   "execution_count": 0,
   "metadata": {
    "colab": {},
    "colab_type": "code",
    "id": "gPBkfUr4dYI3"
   },
   "outputs": [],
   "source": [
    "#copying original dataset in data1\n",
    "data1=data[:]"
   ]
  },
  {
   "cell_type": "code",
   "execution_count": 9,
   "metadata": {
    "colab": {
     "base_uri": "https://localhost:8080/",
     "height": 233
    },
    "colab_type": "code",
    "id": "EgdbduyTmJX1",
    "outputId": "95008729-1f34-42cf-cc06-6810cd5a81bb"
   },
   "outputs": [
    {
     "name": "stderr",
     "output_type": "stream",
     "text": [
      "/usr/local/lib/python3.6/dist-packages/ipykernel_launcher.py:2: SettingWithCopyWarning: \n",
      "A value is trying to be set on a copy of a slice from a DataFrame.\n",
      "Try using .loc[row_indexer,col_indexer] = value instead\n",
      "\n",
      "See the caveats in the documentation: http://pandas.pydata.org/pandas-docs/stable/indexing.html#indexing-view-versus-copy\n",
      "  \n",
      "/usr/local/lib/python3.6/dist-packages/ipykernel_launcher.py:3: SettingWithCopyWarning: \n",
      "A value is trying to be set on a copy of a slice from a DataFrame.\n",
      "Try using .loc[row_indexer,col_indexer] = value instead\n",
      "\n",
      "See the caveats in the documentation: http://pandas.pydata.org/pandas-docs/stable/indexing.html#indexing-view-versus-copy\n",
      "  This is separate from the ipykernel package so we can avoid doing imports until\n"
     ]
    }
   ],
   "source": [
    "#splitting location into two separate columns (longitude and latitude)\n",
    "combined= data1['Location'].str.strip('()').str.split(', ', expand=True).rename(columns={0:'Latitude', 1:'Longitude'})\n",
    "data1['Latitude']= combined['Latitude']\n",
    "data1['Longitude']= combined['Longitude']"
   ]
  },
  {
   "cell_type": "code",
   "execution_count": 10,
   "metadata": {
    "colab": {
     "base_uri": "https://localhost:8080/",
     "height": 233
    },
    "colab_type": "code",
    "id": "8PyYeKw95M9L",
    "outputId": "36189f4a-d255-49dd-9285-576c9355dbe3"
   },
   "outputs": [
    {
     "name": "stderr",
     "output_type": "stream",
     "text": [
      "/usr/local/lib/python3.6/dist-packages/ipykernel_launcher.py:1: SettingWithCopyWarning: \n",
      "A value is trying to be set on a copy of a slice from a DataFrame.\n",
      "Try using .loc[row_indexer,col_indexer] = value instead\n",
      "\n",
      "See the caveats in the documentation: http://pandas.pydata.org/pandas-docs/stable/indexing.html#indexing-view-versus-copy\n",
      "  \"\"\"Entry point for launching an IPython kernel.\n",
      "/usr/local/lib/python3.6/dist-packages/ipykernel_launcher.py:2: SettingWithCopyWarning: \n",
      "A value is trying to be set on a copy of a slice from a DataFrame.\n",
      "Try using .loc[row_indexer,col_indexer] = value instead\n",
      "\n",
      "See the caveats in the documentation: http://pandas.pydata.org/pandas-docs/stable/indexing.html#indexing-view-versus-copy\n",
      "  \n"
     ]
    }
   ],
   "source": [
    "#converting to float type\n",
    "data1['Latitude'] = data1['Latitude'].apply(pd.to_numeric, errors='coerce')\n",
    "data1['Longitude'] = data1['Longitude'].apply(pd.to_numeric, errors='coerce')"
   ]
  },
  {
   "cell_type": "code",
   "execution_count": 11,
   "metadata": {
    "colab": {
     "base_uri": "https://localhost:8080/",
     "height": 341
    },
    "colab_type": "code",
    "id": "Lwub1pwHrT5w",
    "outputId": "3bd00f20-b66a-4a06-8a8d-23ed5ee7932a"
   },
   "outputs": [
    {
     "name": "stderr",
     "output_type": "stream",
     "text": [
      "/usr/local/lib/python3.6/dist-packages/ipykernel_launcher.py:1: SettingWithCopyWarning: \n",
      "A value is trying to be set on a copy of a slice from a DataFrame.\n",
      "Try using .loc[row_indexer,col_indexer] = value instead\n",
      "\n",
      "See the caveats in the documentation: http://pandas.pydata.org/pandas-docs/stable/indexing.html#indexing-view-versus-copy\n",
      "  \"\"\"Entry point for launching an IPython kernel.\n",
      "/usr/local/lib/python3.6/dist-packages/ipykernel_launcher.py:2: SettingWithCopyWarning: \n",
      "A value is trying to be set on a copy of a slice from a DataFrame.\n",
      "Try using .loc[row_indexer,col_indexer] = value instead\n",
      "\n",
      "See the caveats in the documentation: http://pandas.pydata.org/pandas-docs/stable/indexing.html#indexing-view-versus-copy\n",
      "  \n",
      "/usr/local/lib/python3.6/dist-packages/ipykernel_launcher.py:3: SettingWithCopyWarning: \n",
      "A value is trying to be set on a copy of a slice from a DataFrame.\n",
      "Try using .loc[row_indexer,col_indexer] = value instead\n",
      "\n",
      "See the caveats in the documentation: http://pandas.pydata.org/pandas-docs/stable/indexing.html#indexing-view-versus-copy\n",
      "  This is separate from the ipykernel package so we can avoid doing imports until\n"
     ]
    }
   ],
   "source": [
    "#normnalizing the columns containing longitude, latitude and estimated cost \n",
    "data1['Longitude']=(data1['Longitude']- data1['Longitude'].min())/( data1['Longitude'].max()- data1['Longitude'].min())\n",
    "data1['Latitude']=(data1['Latitude']- data1['Latitude'].min())/( data1['Latitude'].max()- data1['Latitude'].min())\n",
    "data1['Estimated Cost']= (data1['Estimated Cost']- data1['Estimated Cost'].min())/( data1['Estimated Cost'].max()- data1['Estimated Cost'].min())"
   ]
  },
  {
   "cell_type": "code",
   "execution_count": 100,
   "metadata": {
    "colab": {
     "base_uri": "https://localhost:8080/",
     "height": 778
    },
    "colab_type": "code",
    "id": "ApLCKIM-cIsC",
    "outputId": "f338db7d-7c2e-41bc-cf81-3f44494b46a3"
   },
   "outputs": [
    {
     "name": "stdout",
     "output_type": "stream",
     "text": [
      "<class 'numpy.ndarray'>\n",
      "<class 'numpy.ndarray'>\n"
     ]
    },
    {
     "name": "stderr",
     "output_type": "stream",
     "text": [
      "/usr/local/lib/python3.6/dist-packages/ipykernel_launcher.py:4: SettingWithCopyWarning: \n",
      "A value is trying to be set on a copy of a slice from a DataFrame.\n",
      "Try using .loc[row_indexer,col_indexer] = value instead\n",
      "\n",
      "See the caveats in the documentation: http://pandas.pydata.org/pandas-docs/stable/indexing.html#indexing-view-versus-copy\n",
      "  after removing the cwd from sys.path.\n",
      "/usr/local/lib/python3.6/dist-packages/ipykernel_launcher.py:9: SettingWithCopyWarning: \n",
      "A value is trying to be set on a copy of a slice from a DataFrame.\n",
      "Try using .loc[row_indexer,col_indexer] = value instead\n",
      "\n",
      "See the caveats in the documentation: http://pandas.pydata.org/pandas-docs/stable/indexing.html#indexing-view-versus-copy\n",
      "  if __name__ == '__main__':\n"
     ]
    },
    {
     "name": "stdout",
     "output_type": "stream",
     "text": [
      "<class 'numpy.ndarray'>\n"
     ]
    },
    {
     "name": "stderr",
     "output_type": "stream",
     "text": [
      "/usr/local/lib/python3.6/dist-packages/ipykernel_launcher.py:14: SettingWithCopyWarning: \n",
      "A value is trying to be set on a copy of a slice from a DataFrame.\n",
      "Try using .loc[row_indexer,col_indexer] = value instead\n",
      "\n",
      "See the caveats in the documentation: http://pandas.pydata.org/pandas-docs/stable/indexing.html#indexing-view-versus-copy\n",
      "  \n",
      "/usr/local/lib/python3.6/dist-packages/ipykernel_launcher.py:20: SettingWithCopyWarning: \n",
      "A value is trying to be set on a copy of a slice from a DataFrame.\n",
      "Try using .loc[row_indexer,col_indexer] = value instead\n",
      "\n",
      "See the caveats in the documentation: http://pandas.pydata.org/pandas-docs/stable/indexing.html#indexing-view-versus-copy\n",
      "/usr/local/lib/python3.6/dist-packages/ipykernel_launcher.py:22: SettingWithCopyWarning: \n",
      "A value is trying to be set on a copy of a slice from a DataFrame.\n",
      "Try using .loc[row_indexer,col_indexer] = value instead\n",
      "\n",
      "See the caveats in the documentation: http://pandas.pydata.org/pandas-docs/stable/indexing.html#indexing-view-versus-copy\n",
      "/usr/local/lib/python3.6/dist-packages/ipykernel_launcher.py:23: SettingWithCopyWarning: \n",
      "A value is trying to be set on a copy of a slice from a DataFrame.\n",
      "Try using .loc[row_indexer,col_indexer] = value instead\n",
      "\n",
      "See the caveats in the documentation: http://pandas.pydata.org/pandas-docs/stable/indexing.html#indexing-view-versus-copy\n",
      "/usr/local/lib/python3.6/dist-packages/ipykernel_launcher.py:24: SettingWithCopyWarning: \n",
      "A value is trying to be set on a copy of a slice from a DataFrame.\n",
      "Try using .loc[row_indexer,col_indexer] = value instead\n",
      "\n",
      "See the caveats in the documentation: http://pandas.pydata.org/pandas-docs/stable/indexing.html#indexing-view-versus-copy\n"
     ]
    }
   ],
   "source": [
    "# converting categorical strings to label encoded data\n",
    "cat = data1['Neighborhoods - Analysis Boundaries'].tolist()\n",
    "encoded_data, mapping_index = pd.Series(cat).factorize()\n",
    "print(type(encoded_data))\n",
    "data1['Encoding Neighborhood']= pd.DataFrame(encoded_data)\n",
    "\n",
    "cat = data1['Existing Use'].tolist()\n",
    "encoded_data, mapping_index = pd.Series(cat).factorize()\n",
    "print(type(encoded_data))\n",
    "\n",
    "cat = data1['Proposed Use'].tolist()\n",
    "encoded_data, mapping_index = pd.Series(cat).factorize()\n",
    "print(type(encoded_data))\n",
    "data1['Encoded Proposed Use']= pd.DataFrame(encoded_data)\n",
    "\n",
    "z = {'approved':1, 'issued':1, 'complete':1, 'expired':1, 'revoked': 0, 'disapproved':0, 'cancelled': 0}\n",
    "x = data1['Current Status']\n",
    "output = x.map(z)\n",
    "\n",
    "data1['Output']= pd.DataFrame(output)\n",
    "\n",
    "data1['Encoded Existing Use'] = data1['Encoded Existing Use'].replace(-1, np.nan)\n",
    "data1['Encoded Proposed Use'] = data1['Encoded Proposed Use'].replace(-1, np.nan)\n",
    "data1['Encoding Neighborhood'] = data1['Encoding Neighborhood'].replace(-1, np.nan)"
   ]
  },
  {
   "cell_type": "code",
   "execution_count": 0,
   "metadata": {
    "colab": {},
    "colab_type": "code",
    "id": "J8fxkeUhHowQ"
   },
   "outputs": [],
   "source": [
    "# removing redundant columns and copying it to data2 Dataframe\n",
    "data2 = data1.drop(['Block', 'Lot','Permit Type Definition','Permit Number','Record ID','Street Number', 'Street Number Suffix', 'Street Name', 'Street Suffix', 'Unit Suffix', 'Location', 'Neighborhoods - Analysis Boundaries', 'Current Status', 'Existing Use','Proposed Use'], axis=1)"
   ]
  },
  {
   "cell_type": "code",
   "execution_count": 102,
   "metadata": {
    "colab": {
     "base_uri": "https://localhost:8080/",
     "height": 278
    },
    "colab_type": "code",
    "id": "RaP28a9-6szl",
    "outputId": "d9cc0b5d-8a21-4981-8d22-a17340b0d9d3"
   },
   "outputs": [
    {
     "data": {
      "text/html": [
       "<div>\n",
       "<style scoped>\n",
       "    .dataframe tbody tr th:only-of-type {\n",
       "        vertical-align: middle;\n",
       "    }\n",
       "\n",
       "    .dataframe tbody tr th {\n",
       "        vertical-align: top;\n",
       "    }\n",
       "\n",
       "    .dataframe thead th {\n",
       "        text-align: right;\n",
       "    }\n",
       "</style>\n",
       "<table border=\"1\" class=\"dataframe\">\n",
       "  <thead>\n",
       "    <tr style=\"text-align: right;\">\n",
       "      <th></th>\n",
       "      <th>Permit Type</th>\n",
       "      <th>Permit Creation Date</th>\n",
       "      <th>Unit</th>\n",
       "      <th>Filed Date</th>\n",
       "      <th>Number of Existing Stories</th>\n",
       "      <th>Number of Proposed Stories</th>\n",
       "      <th>Estimated Cost</th>\n",
       "      <th>Existing Units</th>\n",
       "      <th>Proposed Units</th>\n",
       "      <th>Supervisor District</th>\n",
       "      <th>Zipcode</th>\n",
       "      <th>Latitude</th>\n",
       "      <th>Longitude</th>\n",
       "      <th>Encoding Neighborhood</th>\n",
       "      <th>Encoded Existing Use</th>\n",
       "      <th>Encoded Proposed Use</th>\n",
       "      <th>Output</th>\n",
       "    </tr>\n",
       "  </thead>\n",
       "  <tbody>\n",
       "    <tr>\n",
       "      <th>0</th>\n",
       "      <td>4</td>\n",
       "      <td>05/06/2015</td>\n",
       "      <td>NaN</td>\n",
       "      <td>05/06/2015</td>\n",
       "      <td>6.0</td>\n",
       "      <td>NaN</td>\n",
       "      <td>0.000007</td>\n",
       "      <td>143.0</td>\n",
       "      <td>NaN</td>\n",
       "      <td>3.0</td>\n",
       "      <td>94102.0</td>\n",
       "      <td>0.673289</td>\n",
       "      <td>0.705894</td>\n",
       "      <td>0.0</td>\n",
       "      <td>0.0</td>\n",
       "      <td>NaN</td>\n",
       "      <td>1</td>\n",
       "    </tr>\n",
       "    <tr>\n",
       "      <th>1</th>\n",
       "      <td>4</td>\n",
       "      <td>04/19/2016</td>\n",
       "      <td>0.0</td>\n",
       "      <td>04/19/2016</td>\n",
       "      <td>7.0</td>\n",
       "      <td>NaN</td>\n",
       "      <td>0.000000</td>\n",
       "      <td>NaN</td>\n",
       "      <td>NaN</td>\n",
       "      <td>3.0</td>\n",
       "      <td>94102.0</td>\n",
       "      <td>0.687359</td>\n",
       "      <td>0.691359</td>\n",
       "      <td>0.0</td>\n",
       "      <td>0.0</td>\n",
       "      <td>NaN</td>\n",
       "      <td>1</td>\n",
       "    </tr>\n",
       "    <tr>\n",
       "      <th>2</th>\n",
       "      <td>8</td>\n",
       "      <td>11/07/2016</td>\n",
       "      <td>0.0</td>\n",
       "      <td>11/07/2016</td>\n",
       "      <td>2.0</td>\n",
       "      <td>2.0</td>\n",
       "      <td>0.000004</td>\n",
       "      <td>1.0</td>\n",
       "      <td>1.0</td>\n",
       "      <td>3.0</td>\n",
       "      <td>94109.0</td>\n",
       "      <td>0.762188</td>\n",
       "      <td>0.657296</td>\n",
       "      <td>1.0</td>\n",
       "      <td>1.0</td>\n",
       "      <td>0.0</td>\n",
       "      <td>1</td>\n",
       "    </tr>\n",
       "    <tr>\n",
       "      <th>3</th>\n",
       "      <td>6</td>\n",
       "      <td>11/28/2016</td>\n",
       "      <td>NaN</td>\n",
       "      <td>11/28/2016</td>\n",
       "      <td>3.0</td>\n",
       "      <td>NaN</td>\n",
       "      <td>0.000186</td>\n",
       "      <td>NaN</td>\n",
       "      <td>NaN</td>\n",
       "      <td>6.0</td>\n",
       "      <td>94102.0</td>\n",
       "      <td>0.651006</td>\n",
       "      <td>0.699100</td>\n",
       "      <td>0.0</td>\n",
       "      <td>2.0</td>\n",
       "      <td>NaN</td>\n",
       "      <td>1</td>\n",
       "    </tr>\n",
       "    <tr>\n",
       "      <th>4</th>\n",
       "      <td>8</td>\n",
       "      <td>06/14/2017</td>\n",
       "      <td>NaN</td>\n",
       "      <td>06/14/2017</td>\n",
       "      <td>5.0</td>\n",
       "      <td>5.0</td>\n",
       "      <td>0.000007</td>\n",
       "      <td>326.0</td>\n",
       "      <td>326.0</td>\n",
       "      <td>10.0</td>\n",
       "      <td>94107.0</td>\n",
       "      <td>0.443251</td>\n",
       "      <td>0.821820</td>\n",
       "      <td>2.0</td>\n",
       "      <td>3.0</td>\n",
       "      <td>1.0</td>\n",
       "      <td>1</td>\n",
       "    </tr>\n",
       "  </tbody>\n",
       "</table>\n",
       "</div>"
      ],
      "text/plain": [
       "   Permit Type Permit Creation Date  Unit  Filed Date  \\\n",
       "0            4           05/06/2015   NaN  05/06/2015   \n",
       "1            4           04/19/2016   0.0  04/19/2016   \n",
       "2            8           11/07/2016   0.0  11/07/2016   \n",
       "3            6           11/28/2016   NaN  11/28/2016   \n",
       "4            8           06/14/2017   NaN  06/14/2017   \n",
       "\n",
       "   Number of Existing Stories  Number of Proposed Stories  Estimated Cost  \\\n",
       "0                         6.0                         NaN        0.000007   \n",
       "1                         7.0                         NaN        0.000000   \n",
       "2                         2.0                         2.0        0.000004   \n",
       "3                         3.0                         NaN        0.000186   \n",
       "4                         5.0                         5.0        0.000007   \n",
       "\n",
       "   Existing Units  Proposed Units  Supervisor District  Zipcode  Latitude  \\\n",
       "0           143.0             NaN                  3.0  94102.0  0.673289   \n",
       "1             NaN             NaN                  3.0  94102.0  0.687359   \n",
       "2             1.0             1.0                  3.0  94109.0  0.762188   \n",
       "3             NaN             NaN                  6.0  94102.0  0.651006   \n",
       "4           326.0           326.0                 10.0  94107.0  0.443251   \n",
       "\n",
       "   Longitude  Encoding Neighborhood  Encoded Existing Use  \\\n",
       "0   0.705894                    0.0                   0.0   \n",
       "1   0.691359                    0.0                   0.0   \n",
       "2   0.657296                    1.0                   1.0   \n",
       "3   0.699100                    0.0                   2.0   \n",
       "4   0.821820                    2.0                   3.0   \n",
       "\n",
       "   Encoded Proposed Use  Output  \n",
       "0                   NaN       1  \n",
       "1                   NaN       1  \n",
       "2                   0.0       1  \n",
       "3                   NaN       1  \n",
       "4                   1.0       1  "
      ]
     },
     "execution_count": 102,
     "metadata": {
      "tags": []
     },
     "output_type": "execute_result"
    }
   ],
   "source": [
    "# Take a look at data2 \n",
    "data2.head()"
   ]
  },
  {
   "cell_type": "code",
   "execution_count": 103,
   "metadata": {
    "colab": {
     "base_uri": "https://localhost:8080/",
     "height": 307
    },
    "colab_type": "code",
    "id": "Vnsgu-SPd3my",
    "outputId": "2d342d41-d051-416f-b936-dc4fefff5680"
   },
   "outputs": [
    {
     "data": {
      "text/html": [
       "<div>\n",
       "<style scoped>\n",
       "    .dataframe tbody tr th:only-of-type {\n",
       "        vertical-align: middle;\n",
       "    }\n",
       "\n",
       "    .dataframe tbody tr th {\n",
       "        vertical-align: top;\n",
       "    }\n",
       "\n",
       "    .dataframe thead th {\n",
       "        text-align: right;\n",
       "    }\n",
       "</style>\n",
       "<table border=\"1\" class=\"dataframe\">\n",
       "  <thead>\n",
       "    <tr style=\"text-align: right;\">\n",
       "      <th></th>\n",
       "      <th>Permit Type</th>\n",
       "      <th>Unit</th>\n",
       "      <th>Number of Existing Stories</th>\n",
       "      <th>Number of Proposed Stories</th>\n",
       "      <th>Estimated Cost</th>\n",
       "      <th>Existing Units</th>\n",
       "      <th>Proposed Units</th>\n",
       "      <th>Supervisor District</th>\n",
       "      <th>Zipcode</th>\n",
       "      <th>Latitude</th>\n",
       "      <th>...</th>\n",
       "      <th>Encoding Neighborhood</th>\n",
       "      <th>Encoded Existing Use</th>\n",
       "      <th>Encoded Proposed Use</th>\n",
       "      <th>Output</th>\n",
       "      <th>Permit_year</th>\n",
       "      <th>Permit_month</th>\n",
       "      <th>Permit_day</th>\n",
       "      <th>Filed_year</th>\n",
       "      <th>Filed_month</th>\n",
       "      <th>Filed_day</th>\n",
       "    </tr>\n",
       "  </thead>\n",
       "  <tbody>\n",
       "    <tr>\n",
       "      <th>0</th>\n",
       "      <td>4</td>\n",
       "      <td>NaN</td>\n",
       "      <td>6.0</td>\n",
       "      <td>NaN</td>\n",
       "      <td>0.000007</td>\n",
       "      <td>143.0</td>\n",
       "      <td>NaN</td>\n",
       "      <td>3.0</td>\n",
       "      <td>94102.0</td>\n",
       "      <td>0.673289</td>\n",
       "      <td>...</td>\n",
       "      <td>0.0</td>\n",
       "      <td>0.0</td>\n",
       "      <td>NaN</td>\n",
       "      <td>1</td>\n",
       "      <td>2015</td>\n",
       "      <td>5</td>\n",
       "      <td>6</td>\n",
       "      <td>2015</td>\n",
       "      <td>5</td>\n",
       "      <td>6</td>\n",
       "    </tr>\n",
       "    <tr>\n",
       "      <th>1</th>\n",
       "      <td>4</td>\n",
       "      <td>0.0</td>\n",
       "      <td>7.0</td>\n",
       "      <td>NaN</td>\n",
       "      <td>0.000000</td>\n",
       "      <td>NaN</td>\n",
       "      <td>NaN</td>\n",
       "      <td>3.0</td>\n",
       "      <td>94102.0</td>\n",
       "      <td>0.687359</td>\n",
       "      <td>...</td>\n",
       "      <td>0.0</td>\n",
       "      <td>0.0</td>\n",
       "      <td>NaN</td>\n",
       "      <td>1</td>\n",
       "      <td>2016</td>\n",
       "      <td>4</td>\n",
       "      <td>19</td>\n",
       "      <td>2016</td>\n",
       "      <td>4</td>\n",
       "      <td>19</td>\n",
       "    </tr>\n",
       "    <tr>\n",
       "      <th>2</th>\n",
       "      <td>8</td>\n",
       "      <td>0.0</td>\n",
       "      <td>2.0</td>\n",
       "      <td>2.0</td>\n",
       "      <td>0.000004</td>\n",
       "      <td>1.0</td>\n",
       "      <td>1.0</td>\n",
       "      <td>3.0</td>\n",
       "      <td>94109.0</td>\n",
       "      <td>0.762188</td>\n",
       "      <td>...</td>\n",
       "      <td>1.0</td>\n",
       "      <td>1.0</td>\n",
       "      <td>0.0</td>\n",
       "      <td>1</td>\n",
       "      <td>2016</td>\n",
       "      <td>11</td>\n",
       "      <td>7</td>\n",
       "      <td>2016</td>\n",
       "      <td>11</td>\n",
       "      <td>7</td>\n",
       "    </tr>\n",
       "    <tr>\n",
       "      <th>3</th>\n",
       "      <td>6</td>\n",
       "      <td>NaN</td>\n",
       "      <td>3.0</td>\n",
       "      <td>NaN</td>\n",
       "      <td>0.000186</td>\n",
       "      <td>NaN</td>\n",
       "      <td>NaN</td>\n",
       "      <td>6.0</td>\n",
       "      <td>94102.0</td>\n",
       "      <td>0.651006</td>\n",
       "      <td>...</td>\n",
       "      <td>0.0</td>\n",
       "      <td>2.0</td>\n",
       "      <td>NaN</td>\n",
       "      <td>1</td>\n",
       "      <td>2016</td>\n",
       "      <td>11</td>\n",
       "      <td>28</td>\n",
       "      <td>2016</td>\n",
       "      <td>11</td>\n",
       "      <td>28</td>\n",
       "    </tr>\n",
       "    <tr>\n",
       "      <th>4</th>\n",
       "      <td>8</td>\n",
       "      <td>NaN</td>\n",
       "      <td>5.0</td>\n",
       "      <td>5.0</td>\n",
       "      <td>0.000007</td>\n",
       "      <td>326.0</td>\n",
       "      <td>326.0</td>\n",
       "      <td>10.0</td>\n",
       "      <td>94107.0</td>\n",
       "      <td>0.443251</td>\n",
       "      <td>...</td>\n",
       "      <td>2.0</td>\n",
       "      <td>3.0</td>\n",
       "      <td>1.0</td>\n",
       "      <td>1</td>\n",
       "      <td>2017</td>\n",
       "      <td>6</td>\n",
       "      <td>14</td>\n",
       "      <td>2017</td>\n",
       "      <td>6</td>\n",
       "      <td>14</td>\n",
       "    </tr>\n",
       "  </tbody>\n",
       "</table>\n",
       "<p>5 rows × 21 columns</p>\n",
       "</div>"
      ],
      "text/plain": [
       "   Permit Type  Unit  Number of Existing Stories  Number of Proposed Stories  \\\n",
       "0            4   NaN                         6.0                         NaN   \n",
       "1            4   0.0                         7.0                         NaN   \n",
       "2            8   0.0                         2.0                         2.0   \n",
       "3            6   NaN                         3.0                         NaN   \n",
       "4            8   NaN                         5.0                         5.0   \n",
       "\n",
       "   Estimated Cost  Existing Units  Proposed Units  Supervisor District  \\\n",
       "0        0.000007           143.0             NaN                  3.0   \n",
       "1        0.000000             NaN             NaN                  3.0   \n",
       "2        0.000004             1.0             1.0                  3.0   \n",
       "3        0.000186             NaN             NaN                  6.0   \n",
       "4        0.000007           326.0           326.0                 10.0   \n",
       "\n",
       "   Zipcode  Latitude    ...      Encoding Neighborhood  Encoded Existing Use  \\\n",
       "0  94102.0  0.673289    ...                        0.0                   0.0   \n",
       "1  94102.0  0.687359    ...                        0.0                   0.0   \n",
       "2  94109.0  0.762188    ...                        1.0                   1.0   \n",
       "3  94102.0  0.651006    ...                        0.0                   2.0   \n",
       "4  94107.0  0.443251    ...                        2.0                   3.0   \n",
       "\n",
       "   Encoded Proposed Use  Output  Permit_year  Permit_month  Permit_day  \\\n",
       "0                   NaN       1         2015             5           6   \n",
       "1                   NaN       1         2016             4          19   \n",
       "2                   0.0       1         2016            11           7   \n",
       "3                   NaN       1         2016            11          28   \n",
       "4                   1.0       1         2017             6          14   \n",
       "\n",
       "   Filed_year  Filed_month  Filed_day  \n",
       "0        2015            5          6  \n",
       "1        2016            4         19  \n",
       "2        2016           11          7  \n",
       "3        2016           11         28  \n",
       "4        2017            6         14  \n",
       "\n",
       "[5 rows x 21 columns]"
      ]
     },
     "execution_count": 103,
     "metadata": {
      "tags": []
     },
     "output_type": "execute_result"
    }
   ],
   "source": [
    "# Segregating Month-Day-year\n",
    "from datetime import datetime\n",
    " \n",
    "year = lambda x: datetime.strptime(x, \"%m/%d/%Y\" ).year\n",
    "data2['Permit_year'] = data2['Permit Creation Date'].map(year)\n",
    "\n",
    "\n",
    "month = lambda x: datetime.strptime(x, \"%m/%d/%Y\" ).month\n",
    "data2['Permit_month'] = data2['Permit Creation Date'].map(month)\n",
    "\n",
    "\n",
    "day = lambda x: datetime.strptime(x, \"%m/%d/%Y\" ).day\n",
    "data2['Permit_day'] = data2['Permit Creation Date'].map(day)\n",
    "\n",
    "\n",
    "year_1 = lambda x: datetime.strptime(x, \"%m/%d/%Y\" ).year\n",
    "data2['Filed_year'] = data2['Filed Date'].map(year_1)\n",
    "\n",
    "\n",
    "month_1 = lambda x: datetime.strptime(x, \"%m/%d/%Y\" ).month\n",
    "data2['Filed_month'] = data2['Filed Date'].map(month_1)\n",
    "\n",
    "\n",
    "day_1 = lambda x: datetime.strptime(x, \"%m/%d/%Y\" ).day\n",
    "data2['Filed_day'] = data2['Filed Date'].map(day_1)\n",
    "\n",
    "data2.drop('Filed Date', axis =1, inplace = True)\n",
    "data2.drop('Permit Creation Date', axis =1, inplace = True)\n",
    "\n",
    "data2.head()\n"
   ]
  },
  {
   "cell_type": "code",
   "execution_count": 0,
   "metadata": {
    "colab": {},
    "colab_type": "code",
    "id": "7j2gdR1jkQmv"
   },
   "outputs": [],
   "source": [
    "data2 = data2.drop(['Filed_year', 'Filed_month','Filed_day'], axis=1)"
   ]
  },
  {
   "cell_type": "markdown",
   "metadata": {
    "colab_type": "text",
    "id": "4-gfZQLwMAM3"
   },
   "source": [
    "# XGBoost with label encoded data"
   ]
  },
  {
   "cell_type": "code",
   "execution_count": 0,
   "metadata": {
    "colab": {},
    "colab_type": "code",
    "id": "puKn7cP2MFaB"
   },
   "outputs": [],
   "source": [
    "#importing library\n",
    "from xgboost import XGBClassifier\n",
    "from sklearn.model_selection import train_test_split"
   ]
  },
  {
   "cell_type": "code",
   "execution_count": 106,
   "metadata": {
    "colab": {
     "base_uri": "https://localhost:8080/",
     "height": 128
    },
    "colab_type": "code",
    "id": "PZgvsNvgMVXT",
    "outputId": "e6f63d1a-614d-471a-b3f6-bfbfbcf2b11e"
   },
   "outputs": [
    {
     "data": {
      "text/plain": [
       "XGBClassifier(base_score=0.5, booster='gbtree', colsample_bylevel=1,\n",
       "       colsample_bytree=1, gamma=0, learning_rate=0.1, max_delta_step=0,\n",
       "       max_depth=5, min_child_weight=1, missing=None, n_estimators=400,\n",
       "       n_jobs=1, nthread=None, objective='binary:logistic', random_state=0,\n",
       "       reg_alpha=0, reg_lambda=1, scale_pos_weight=0.01, seed=None,\n",
       "       silent=True, subsample=1)"
      ]
     },
     "execution_count": 106,
     "metadata": {
      "tags": []
     },
     "output_type": "execute_result"
    }
   ],
   "source": [
    "#splitting of data2 and fitting models\n",
    "data2.head(6)\n",
    "y = data2['Output']\n",
    "X = data2 \n",
    "X = X.drop('Output', axis = 1)\n",
    "X_train, X_test, y_train, y_test = train_test_split(X,y, stratify = y, random_state = 46, test_size = 0.2)\n",
    "xgb_model = XGBClassifier(scale_pos_weight = 0.01, n_estimators = 400, max_depth = 5 )\n",
    "xgb_model.fit(X_train, y_train)"
   ]
  },
  {
   "cell_type": "code",
   "execution_count": 107,
   "metadata": {
    "colab": {
     "base_uri": "https://localhost:8080/",
     "height": 93
    },
    "colab_type": "code",
    "id": "OT7DMJu4V-Jb",
    "outputId": "885480dd-8ac2-41a3-fdcd-e038923cf7ef"
   },
   "outputs": [
    {
     "name": "stderr",
     "output_type": "stream",
     "text": [
      "/usr/local/lib/python3.6/dist-packages/sklearn/preprocessing/label.py:151: DeprecationWarning: The truth value of an empty array is ambiguous. Returning False, but in future this will result in an error. Use `array.size > 0` to check that an array is not empty.\n",
      "  if diff:\n"
     ]
    },
    {
     "data": {
      "text/plain": [
       "0.8614750050832196"
      ]
     },
     "execution_count": 107,
     "metadata": {
      "tags": []
     },
     "output_type": "execute_result"
    }
   ],
   "source": [
    "#getting test score\n",
    "xgb_model.score(X_test, y_test)"
   ]
  },
  {
   "cell_type": "code",
   "execution_count": 108,
   "metadata": {
    "colab": {
     "base_uri": "https://localhost:8080/",
     "height": 204
    },
    "colab_type": "code",
    "id": "_WAOOQ1lWkpS",
    "outputId": "e2a5492b-4dcf-4826-8fbc-046960d80b9f"
   },
   "outputs": [
    {
     "name": "stdout",
     "output_type": "stream",
     "text": [
      "             precision    recall  f1-score   support\n",
      "\n",
      "          0       0.03      0.48      0.06       312\n",
      "          1       0.99      0.86      0.93     34115\n",
      "\n",
      "avg / total       0.99      0.86      0.92     34427\n",
      "\n"
     ]
    },
    {
     "name": "stderr",
     "output_type": "stream",
     "text": [
      "/usr/local/lib/python3.6/dist-packages/sklearn/preprocessing/label.py:151: DeprecationWarning: The truth value of an empty array is ambiguous. Returning False, but in future this will result in an error. Use `array.size > 0` to check that an array is not empty.\n",
      "  if diff:\n"
     ]
    }
   ],
   "source": [
    "# printing classification report for test dataset\n",
    "from sklearn.metrics import classification_report, confusion_matrix\n",
    "print(classification_report(y_test,xgb_model.predict(X_test)))"
   ]
  },
  {
   "cell_type": "code",
   "execution_count": 109,
   "metadata": {
    "colab": {
     "base_uri": "https://localhost:8080/",
     "height": 111
    },
    "colab_type": "code",
    "id": "gs2AGGLAtrSG",
    "outputId": "49bb25d0-84b9-45f2-8075-bce0fd78c7fe"
   },
   "outputs": [
    {
     "name": "stdout",
     "output_type": "stream",
     "text": [
      "[[  151   161]\n",
      " [ 4608 29507]]\n"
     ]
    },
    {
     "name": "stderr",
     "output_type": "stream",
     "text": [
      "/usr/local/lib/python3.6/dist-packages/sklearn/preprocessing/label.py:151: DeprecationWarning: The truth value of an empty array is ambiguous. Returning False, but in future this will result in an error. Use `array.size > 0` to check that an array is not empty.\n",
      "  if diff:\n"
     ]
    }
   ],
   "source": [
    "# printing confusion matrix\n",
    "print(confusion_matrix(y_test, xgb_model.predict(X_test)))"
   ]
  },
  {
   "cell_type": "markdown",
   "metadata": {
    "colab_type": "text",
    "id": "gh1CYBW7G1bI"
   },
   "source": []
  },
  {
   "cell_type": "markdown",
   "metadata": {
    "colab_type": "text",
    "id": "_LLQ-EawlD1v"
   },
   "source": [
    "# RandomForest with label encoded data"
   ]
  },
  {
   "cell_type": "code",
   "execution_count": 0,
   "metadata": {
    "colab": {},
    "colab_type": "code",
    "id": "pjnYyCh0jSLi"
   },
   "outputs": [],
   "source": [
    "#importing imputer and setting up mean and mode imputation models\n",
    "from sklearn.preprocessing import Imputer\n",
    "imputer_mean = Imputer(missing_values='NaN', strategy='mean', axis=0)\n",
    "imputer_mode = Imputer(missing_values='NaN', strategy='most_frequent', axis=0)"
   ]
  },
  {
   "cell_type": "code",
   "execution_count": 111,
   "metadata": {
    "colab": {
     "base_uri": "https://localhost:8080/",
     "height": 278
    },
    "colab_type": "code",
    "id": "xT62qHNWjSQs",
    "outputId": "a85d8264-cd0b-47f3-c948-18fc3c47bced"
   },
   "outputs": [
    {
     "data": {
      "text/html": [
       "<div>\n",
       "<style scoped>\n",
       "    .dataframe tbody tr th:only-of-type {\n",
       "        vertical-align: middle;\n",
       "    }\n",
       "\n",
       "    .dataframe tbody tr th {\n",
       "        vertical-align: top;\n",
       "    }\n",
       "\n",
       "    .dataframe thead th {\n",
       "        text-align: right;\n",
       "    }\n",
       "</style>\n",
       "<table border=\"1\" class=\"dataframe\">\n",
       "  <thead>\n",
       "    <tr style=\"text-align: right;\">\n",
       "      <th></th>\n",
       "      <th>Permit Type</th>\n",
       "      <th>Unit</th>\n",
       "      <th>Number of Existing Stories</th>\n",
       "      <th>Number of Proposed Stories</th>\n",
       "      <th>Estimated Cost</th>\n",
       "      <th>Existing Units</th>\n",
       "      <th>Proposed Units</th>\n",
       "      <th>Supervisor District</th>\n",
       "      <th>Zipcode</th>\n",
       "      <th>Latitude</th>\n",
       "      <th>Longitude</th>\n",
       "      <th>Encoding Neighborhood</th>\n",
       "      <th>Encoded Existing Use</th>\n",
       "      <th>Encoded Proposed Use</th>\n",
       "      <th>Output</th>\n",
       "      <th>Permit_year</th>\n",
       "      <th>Permit_month</th>\n",
       "      <th>Permit_day</th>\n",
       "    </tr>\n",
       "  </thead>\n",
       "  <tbody>\n",
       "    <tr>\n",
       "      <th>0</th>\n",
       "      <td>4</td>\n",
       "      <td>NaN</td>\n",
       "      <td>6.0</td>\n",
       "      <td>NaN</td>\n",
       "      <td>0.000007</td>\n",
       "      <td>143.0</td>\n",
       "      <td>NaN</td>\n",
       "      <td>3.0</td>\n",
       "      <td>94102.0</td>\n",
       "      <td>0.673289</td>\n",
       "      <td>0.705894</td>\n",
       "      <td>0.0</td>\n",
       "      <td>0.0</td>\n",
       "      <td>NaN</td>\n",
       "      <td>1</td>\n",
       "      <td>2015</td>\n",
       "      <td>5</td>\n",
       "      <td>6</td>\n",
       "    </tr>\n",
       "    <tr>\n",
       "      <th>1</th>\n",
       "      <td>4</td>\n",
       "      <td>0.0</td>\n",
       "      <td>7.0</td>\n",
       "      <td>NaN</td>\n",
       "      <td>0.000000</td>\n",
       "      <td>NaN</td>\n",
       "      <td>NaN</td>\n",
       "      <td>3.0</td>\n",
       "      <td>94102.0</td>\n",
       "      <td>0.687359</td>\n",
       "      <td>0.691359</td>\n",
       "      <td>0.0</td>\n",
       "      <td>0.0</td>\n",
       "      <td>NaN</td>\n",
       "      <td>1</td>\n",
       "      <td>2016</td>\n",
       "      <td>4</td>\n",
       "      <td>19</td>\n",
       "    </tr>\n",
       "    <tr>\n",
       "      <th>2</th>\n",
       "      <td>8</td>\n",
       "      <td>0.0</td>\n",
       "      <td>2.0</td>\n",
       "      <td>2.0</td>\n",
       "      <td>0.000004</td>\n",
       "      <td>1.0</td>\n",
       "      <td>1.0</td>\n",
       "      <td>3.0</td>\n",
       "      <td>94109.0</td>\n",
       "      <td>0.762188</td>\n",
       "      <td>0.657296</td>\n",
       "      <td>1.0</td>\n",
       "      <td>1.0</td>\n",
       "      <td>0.0</td>\n",
       "      <td>1</td>\n",
       "      <td>2016</td>\n",
       "      <td>11</td>\n",
       "      <td>7</td>\n",
       "    </tr>\n",
       "    <tr>\n",
       "      <th>3</th>\n",
       "      <td>6</td>\n",
       "      <td>NaN</td>\n",
       "      <td>3.0</td>\n",
       "      <td>NaN</td>\n",
       "      <td>0.000186</td>\n",
       "      <td>NaN</td>\n",
       "      <td>NaN</td>\n",
       "      <td>6.0</td>\n",
       "      <td>94102.0</td>\n",
       "      <td>0.651006</td>\n",
       "      <td>0.699100</td>\n",
       "      <td>0.0</td>\n",
       "      <td>2.0</td>\n",
       "      <td>NaN</td>\n",
       "      <td>1</td>\n",
       "      <td>2016</td>\n",
       "      <td>11</td>\n",
       "      <td>28</td>\n",
       "    </tr>\n",
       "    <tr>\n",
       "      <th>4</th>\n",
       "      <td>8</td>\n",
       "      <td>NaN</td>\n",
       "      <td>5.0</td>\n",
       "      <td>5.0</td>\n",
       "      <td>0.000007</td>\n",
       "      <td>326.0</td>\n",
       "      <td>326.0</td>\n",
       "      <td>10.0</td>\n",
       "      <td>94107.0</td>\n",
       "      <td>0.443251</td>\n",
       "      <td>0.821820</td>\n",
       "      <td>2.0</td>\n",
       "      <td>3.0</td>\n",
       "      <td>1.0</td>\n",
       "      <td>1</td>\n",
       "      <td>2017</td>\n",
       "      <td>6</td>\n",
       "      <td>14</td>\n",
       "    </tr>\n",
       "  </tbody>\n",
       "</table>\n",
       "</div>"
      ],
      "text/plain": [
       "   Permit Type  Unit  Number of Existing Stories  Number of Proposed Stories  \\\n",
       "0            4   NaN                         6.0                         NaN   \n",
       "1            4   0.0                         7.0                         NaN   \n",
       "2            8   0.0                         2.0                         2.0   \n",
       "3            6   NaN                         3.0                         NaN   \n",
       "4            8   NaN                         5.0                         5.0   \n",
       "\n",
       "   Estimated Cost  Existing Units  Proposed Units  Supervisor District  \\\n",
       "0        0.000007           143.0             NaN                  3.0   \n",
       "1        0.000000             NaN             NaN                  3.0   \n",
       "2        0.000004             1.0             1.0                  3.0   \n",
       "3        0.000186             NaN             NaN                  6.0   \n",
       "4        0.000007           326.0           326.0                 10.0   \n",
       "\n",
       "   Zipcode  Latitude  Longitude  Encoding Neighborhood  Encoded Existing Use  \\\n",
       "0  94102.0  0.673289   0.705894                    0.0                   0.0   \n",
       "1  94102.0  0.687359   0.691359                    0.0                   0.0   \n",
       "2  94109.0  0.762188   0.657296                    1.0                   1.0   \n",
       "3  94102.0  0.651006   0.699100                    0.0                   2.0   \n",
       "4  94107.0  0.443251   0.821820                    2.0                   3.0   \n",
       "\n",
       "   Encoded Proposed Use  Output  Permit_year  Permit_month  Permit_day  \n",
       "0                   NaN       1         2015             5           6  \n",
       "1                   NaN       1         2016             4          19  \n",
       "2                   0.0       1         2016            11           7  \n",
       "3                   NaN       1         2016            11          28  \n",
       "4                   1.0       1         2017             6          14  "
      ]
     },
     "execution_count": 111,
     "metadata": {
      "tags": []
     },
     "output_type": "execute_result"
    }
   ],
   "source": [
    "#copying data2 into data3 for imputation changes\n",
    "data3 = data2[:]\n",
    "data3.head()"
   ]
  },
  {
   "cell_type": "code",
   "execution_count": 0,
   "metadata": {
    "colab": {},
    "colab_type": "code",
    "id": "aMzwTVQ6jSYR"
   },
   "outputs": [],
   "source": [
    "#splitting into x and y\n",
    "X= data3.drop('Output', axis=1)\n",
    "y= data3['Output']"
   ]
  },
  {
   "cell_type": "code",
   "execution_count": 0,
   "metadata": {
    "colab": {},
    "colab_type": "code",
    "id": "AbgRFzT3jSde"
   },
   "outputs": [],
   "source": [
    "#splitting x into mean and mode imputable data\n",
    "X_mean= X.drop(['Permit Type','Supervisor District','Zipcode','Encoding Neighborhood','Encoded Existing Use','Encoded Proposed Use', 'Permit_year', 'Permit_month','Permit_day' ], axis=1)\n",
    "X_mode= X[['Permit Type','Supervisor District','Zipcode','Encoding Neighborhood','Encoded Existing Use','Encoded Proposed Use', 'Permit_year', 'Permit_month','Permit_day']]"
   ]
  },
  {
   "cell_type": "code",
   "execution_count": 0,
   "metadata": {
    "colab": {},
    "colab_type": "code",
    "id": "NO-Lw7NijSUk"
   },
   "outputs": [],
   "source": [
    "#mean imputation\n",
    "imputer_mean.fit(X_mean)\n",
    "X_mean2= imputer_mean.transform(X_mean)"
   ]
  },
  {
   "cell_type": "code",
   "execution_count": 0,
   "metadata": {
    "colab": {},
    "colab_type": "code",
    "id": "O_IR7-w_jSH2"
   },
   "outputs": [],
   "source": [
    "#converting to dataframe\n",
    "X_mean2= pd.DataFrame(X_mean2 ,columns= X_mean.columns)"
   ]
  },
  {
   "cell_type": "code",
   "execution_count": 116,
   "metadata": {
    "colab": {
     "base_uri": "https://localhost:8080/",
     "height": 184
    },
    "colab_type": "code",
    "id": "eLoAby4nmgtD",
    "outputId": "356f25df-ded3-4cff-a646-2a16c24e69c4"
   },
   "outputs": [
    {
     "data": {
      "text/plain": [
       "Unit                          0\n",
       "Number of Existing Stories    0\n",
       "Number of Proposed Stories    0\n",
       "Estimated Cost                0\n",
       "Existing Units                0\n",
       "Proposed Units                0\n",
       "Latitude                      0\n",
       "Longitude                     0\n",
       "dtype: int64"
      ]
     },
     "execution_count": 116,
     "metadata": {
      "tags": []
     },
     "output_type": "execute_result"
    }
   ],
   "source": [
    "#checking null values\n",
    "X_mean2.isnull().sum() "
   ]
  },
  {
   "cell_type": "code",
   "execution_count": 0,
   "metadata": {
    "colab": {},
    "colab_type": "code",
    "id": "Xmhfgg-pmuz5"
   },
   "outputs": [],
   "source": [
    "#mode imputation\n",
    "imputer_mode.fit(X_mode)\n",
    "X_mode2= imputer_mode.transform(X_mode)"
   ]
  },
  {
   "cell_type": "code",
   "execution_count": 0,
   "metadata": {
    "colab": {},
    "colab_type": "code",
    "id": "SYGs1LDtmu3e"
   },
   "outputs": [],
   "source": [
    "# converting to dataframe\n",
    "X_mode2= pd.DataFrame(X_mode2 ,columns= X_mode.columns)"
   ]
  },
  {
   "cell_type": "code",
   "execution_count": 119,
   "metadata": {
    "colab": {
     "base_uri": "https://localhost:8080/",
     "height": 203
    },
    "colab_type": "code",
    "id": "hdBSsfXDmu5q",
    "outputId": "2048ec1a-e3f2-4606-9278-90a998280a3d"
   },
   "outputs": [
    {
     "data": {
      "text/plain": [
       "Permit Type              0\n",
       "Supervisor District      0\n",
       "Zipcode                  0\n",
       "Encoding Neighborhood    0\n",
       "Encoded Existing Use     0\n",
       "Encoded Proposed Use     0\n",
       "Permit_year              0\n",
       "Permit_month             0\n",
       "Permit_day               0\n",
       "dtype: int64"
      ]
     },
     "execution_count": 119,
     "metadata": {
      "tags": []
     },
     "output_type": "execute_result"
    }
   ],
   "source": [
    "#checking null values\n",
    "X_mode2.isnull().sum()"
   ]
  },
  {
   "cell_type": "code",
   "execution_count": 0,
   "metadata": {
    "colab": {},
    "colab_type": "code",
    "id": "rHnmJ43emuxo"
   },
   "outputs": [],
   "source": [
    "#concatenating mean and mode imputed data\n",
    "X1 = pd.concat([X_mean2, X_mode2], axis=1)\n",
    "data4 = pd.concat([X1 , y], axis=1)"
   ]
  },
  {
   "cell_type": "code",
   "execution_count": 0,
   "metadata": {
    "colab": {},
    "colab_type": "code",
    "id": "ZhHHPWaumuum"
   },
   "outputs": [],
   "source": [
    "#importing random forest\n",
    "from sklearn.ensemble import RandomForestClassifier\n",
    "rf= RandomForestClassifier()"
   ]
  },
  {
   "cell_type": "code",
   "execution_count": 122,
   "metadata": {
    "colab": {
     "base_uri": "https://localhost:8080/",
     "height": 147
    },
    "colab_type": "code",
    "id": "Pftry3SGmurl",
    "outputId": "18e5a44e-8d73-45e4-fc18-5250fe5dab7e"
   },
   "outputs": [
    {
     "data": {
      "text/plain": [
       "RandomForestClassifier(bootstrap=True, class_weight=None, criterion='gini',\n",
       "            max_depth=None, max_features='auto', max_leaf_nodes=None,\n",
       "            min_impurity_decrease=0.0, min_impurity_split=None,\n",
       "            min_samples_leaf=1, min_samples_split=2,\n",
       "            min_weight_fraction_leaf=0.0, n_estimators=10, n_jobs=1,\n",
       "            oob_score=False, random_state=None, verbose=0,\n",
       "            warm_start=False)"
      ]
     },
     "execution_count": 122,
     "metadata": {
      "tags": []
     },
     "output_type": "execute_result"
    }
   ],
   "source": [
    "# splitted data\n",
    "X_train, X_test, y_train, y_test = train_test_split(X1,y, stratify = y, random_state = 46, test_size = 0.2)\n",
    "rf.fit(X_train, y_train)"
   ]
  },
  {
   "cell_type": "code",
   "execution_count": 123,
   "metadata": {
    "colab": {
     "base_uri": "https://localhost:8080/",
     "height": 36
    },
    "colab_type": "code",
    "id": "t7uMXBJOoEKn",
    "outputId": "c6f505fa-cee8-423a-9c7f-45ed78d6b9db"
   },
   "outputs": [
    {
     "data": {
      "text/plain": [
       "0.9919249426322363"
      ]
     },
     "execution_count": 123,
     "metadata": {
      "tags": []
     },
     "output_type": "execute_result"
    }
   ],
   "source": [
    "#getting score over test data\n",
    "rf.score(X_test,y_test)"
   ]
  },
  {
   "cell_type": "code",
   "execution_count": 124,
   "metadata": {
    "colab": {
     "base_uri": "https://localhost:8080/",
     "height": 147
    },
    "colab_type": "code",
    "id": "IEHfQbXxoGxL",
    "outputId": "6470cd84-57cf-4e01-ec88-c95ed6bcf934"
   },
   "outputs": [
    {
     "name": "stdout",
     "output_type": "stream",
     "text": [
      "             precision    recall  f1-score   support\n",
      "\n",
      "          0       0.75      0.16      0.27       312\n",
      "          1       0.99      1.00      1.00     34115\n",
      "\n",
      "avg / total       0.99      0.99      0.99     34427\n",
      "\n"
     ]
    }
   ],
   "source": [
    "# classification report\n",
    "from sklearn.metrics import classification_report, confusion_matrix\n",
    "print(classification_report(y_test,rf.predict(X_test)))"
   ]
  },
  {
   "cell_type": "code",
   "execution_count": 125,
   "metadata": {
    "colab": {
     "base_uri": "https://localhost:8080/",
     "height": 54
    },
    "colab_type": "code",
    "id": "kGATzvOCoSAi",
    "outputId": "1fef9a36-de3b-4165-ac70-5a98f84ac3ca"
   },
   "outputs": [
    {
     "data": {
      "text/plain": [
       "array([[   51,   261],\n",
       "       [   17, 34098]])"
      ]
     },
     "execution_count": 125,
     "metadata": {
      "tags": []
     },
     "output_type": "execute_result"
    }
   ],
   "source": [
    "# confusion matrix\n",
    "confusion_matrix(y_test, rf.predict(X_test))"
   ]
  },
  {
   "cell_type": "code",
   "execution_count": 0,
   "metadata": {
    "colab": {},
    "colab_type": "code",
    "id": "0GdN3YMLoXQC"
   },
   "outputs": [],
   "source": []
  },
  {
   "cell_type": "code",
   "execution_count": 0,
   "metadata": {
    "colab": {},
    "colab_type": "code",
    "id": "01onfRz6tj9N"
   },
   "outputs": [],
   "source": []
  },
  {
   "cell_type": "markdown",
   "metadata": {
    "colab_type": "text",
    "id": "R8_6g3y7oYrA"
   },
   "source": [
    "# Random Forest with upsampling"
   ]
  },
  {
   "cell_type": "code",
   "execution_count": 0,
   "metadata": {
    "colab": {},
    "colab_type": "code",
    "id": "DxpyRz_opT5g"
   },
   "outputs": [],
   "source": [
    "#splitting mean and mode imputed dataset\n",
    "X_train, X_test, y_train, y_test = train_test_split(X1, y, stratify = y, random_state = 46, test_size = 0.2)"
   ]
  },
  {
   "cell_type": "code",
   "execution_count": 0,
   "metadata": {
    "colab": {},
    "colab_type": "code",
    "id": "Hb6pt7tex4sw"
   },
   "outputs": [],
   "source": [
    "#concatenating xtrain and ytrain to data_new\n",
    "data_new= pd.concat([X_train , y_train], axis=1)"
   ]
  },
  {
   "cell_type": "code",
   "execution_count": 137,
   "metadata": {
    "colab": {
     "base_uri": "https://localhost:8080/",
     "height": 278
    },
    "colab_type": "code",
    "id": "PPkUBQM4yE2w",
    "outputId": "0329d26a-c4aa-458a-df41-f6fd3b1eeeeb"
   },
   "outputs": [
    {
     "data": {
      "text/html": [
       "<div>\n",
       "<style scoped>\n",
       "    .dataframe tbody tr th:only-of-type {\n",
       "        vertical-align: middle;\n",
       "    }\n",
       "\n",
       "    .dataframe tbody tr th {\n",
       "        vertical-align: top;\n",
       "    }\n",
       "\n",
       "    .dataframe thead th {\n",
       "        text-align: right;\n",
       "    }\n",
       "</style>\n",
       "<table border=\"1\" class=\"dataframe\">\n",
       "  <thead>\n",
       "    <tr style=\"text-align: right;\">\n",
       "      <th></th>\n",
       "      <th>Unit</th>\n",
       "      <th>Number of Existing Stories</th>\n",
       "      <th>Number of Proposed Stories</th>\n",
       "      <th>Estimated Cost</th>\n",
       "      <th>Existing Units</th>\n",
       "      <th>Proposed Units</th>\n",
       "      <th>Latitude</th>\n",
       "      <th>Longitude</th>\n",
       "      <th>Permit Type</th>\n",
       "      <th>Supervisor District</th>\n",
       "      <th>Zipcode</th>\n",
       "      <th>Encoding Neighborhood</th>\n",
       "      <th>Encoded Existing Use</th>\n",
       "      <th>Encoded Proposed Use</th>\n",
       "      <th>Permit_year</th>\n",
       "      <th>Permit_month</th>\n",
       "      <th>Permit_day</th>\n",
       "      <th>Output</th>\n",
       "    </tr>\n",
       "  </thead>\n",
       "  <tbody>\n",
       "    <tr>\n",
       "      <th>84930</th>\n",
       "      <td>79.624457</td>\n",
       "      <td>3.0</td>\n",
       "      <td>3.0</td>\n",
       "      <td>0.000006</td>\n",
       "      <td>5.0</td>\n",
       "      <td>5.0</td>\n",
       "      <td>0.416296</td>\n",
       "      <td>0.469585</td>\n",
       "      <td>8.0</td>\n",
       "      <td>8.0</td>\n",
       "      <td>94114.0</td>\n",
       "      <td>33.0</td>\n",
       "      <td>3.0</td>\n",
       "      <td>1.0</td>\n",
       "      <td>2015.0</td>\n",
       "      <td>6.0</td>\n",
       "      <td>12.0</td>\n",
       "      <td>1</td>\n",
       "    </tr>\n",
       "    <tr>\n",
       "      <th>15518</th>\n",
       "      <td>0.000000</td>\n",
       "      <td>3.0</td>\n",
       "      <td>3.0</td>\n",
       "      <td>0.000000</td>\n",
       "      <td>3.0</td>\n",
       "      <td>3.0</td>\n",
       "      <td>0.578420</td>\n",
       "      <td>0.459728</td>\n",
       "      <td>8.0</td>\n",
       "      <td>5.0</td>\n",
       "      <td>94117.0</td>\n",
       "      <td>5.0</td>\n",
       "      <td>3.0</td>\n",
       "      <td>1.0</td>\n",
       "      <td>2013.0</td>\n",
       "      <td>6.0</td>\n",
       "      <td>18.0</td>\n",
       "      <td>1</td>\n",
       "    </tr>\n",
       "    <tr>\n",
       "      <th>38499</th>\n",
       "      <td>79.624457</td>\n",
       "      <td>26.0</td>\n",
       "      <td>26.0</td>\n",
       "      <td>0.000000</td>\n",
       "      <td>0.0</td>\n",
       "      <td>0.0</td>\n",
       "      <td>0.681037</td>\n",
       "      <td>0.764599</td>\n",
       "      <td>8.0</td>\n",
       "      <td>6.0</td>\n",
       "      <td>94103.0</td>\n",
       "      <td>12.0</td>\n",
       "      <td>9.0</td>\n",
       "      <td>13.0</td>\n",
       "      <td>2014.0</td>\n",
       "      <td>2.0</td>\n",
       "      <td>25.0</td>\n",
       "      <td>1</td>\n",
       "    </tr>\n",
       "    <tr>\n",
       "      <th>79308</th>\n",
       "      <td>79.624457</td>\n",
       "      <td>2.0</td>\n",
       "      <td>3.0</td>\n",
       "      <td>0.000558</td>\n",
       "      <td>1.0</td>\n",
       "      <td>1.0</td>\n",
       "      <td>0.333806</td>\n",
       "      <td>0.573449</td>\n",
       "      <td>3.0</td>\n",
       "      <td>8.0</td>\n",
       "      <td>94131.0</td>\n",
       "      <td>9.0</td>\n",
       "      <td>1.0</td>\n",
       "      <td>0.0</td>\n",
       "      <td>2015.0</td>\n",
       "      <td>4.0</td>\n",
       "      <td>20.0</td>\n",
       "      <td>1</td>\n",
       "    </tr>\n",
       "    <tr>\n",
       "      <th>11853</th>\n",
       "      <td>79.624457</td>\n",
       "      <td>1.0</td>\n",
       "      <td>1.0</td>\n",
       "      <td>0.000002</td>\n",
       "      <td>1.0</td>\n",
       "      <td>1.0</td>\n",
       "      <td>0.363688</td>\n",
       "      <td>0.271611</td>\n",
       "      <td>8.0</td>\n",
       "      <td>7.0</td>\n",
       "      <td>94116.0</td>\n",
       "      <td>3.0</td>\n",
       "      <td>1.0</td>\n",
       "      <td>0.0</td>\n",
       "      <td>2013.0</td>\n",
       "      <td>5.0</td>\n",
       "      <td>13.0</td>\n",
       "      <td>1</td>\n",
       "    </tr>\n",
       "  </tbody>\n",
       "</table>\n",
       "</div>"
      ],
      "text/plain": [
       "            Unit  Number of Existing Stories  Number of Proposed Stories  \\\n",
       "84930  79.624457                         3.0                         3.0   \n",
       "15518   0.000000                         3.0                         3.0   \n",
       "38499  79.624457                        26.0                        26.0   \n",
       "79308  79.624457                         2.0                         3.0   \n",
       "11853  79.624457                         1.0                         1.0   \n",
       "\n",
       "       Estimated Cost  Existing Units  Proposed Units  Latitude  Longitude  \\\n",
       "84930        0.000006             5.0             5.0  0.416296   0.469585   \n",
       "15518        0.000000             3.0             3.0  0.578420   0.459728   \n",
       "38499        0.000000             0.0             0.0  0.681037   0.764599   \n",
       "79308        0.000558             1.0             1.0  0.333806   0.573449   \n",
       "11853        0.000002             1.0             1.0  0.363688   0.271611   \n",
       "\n",
       "       Permit Type  Supervisor District  Zipcode  Encoding Neighborhood  \\\n",
       "84930          8.0                  8.0  94114.0                   33.0   \n",
       "15518          8.0                  5.0  94117.0                    5.0   \n",
       "38499          8.0                  6.0  94103.0                   12.0   \n",
       "79308          3.0                  8.0  94131.0                    9.0   \n",
       "11853          8.0                  7.0  94116.0                    3.0   \n",
       "\n",
       "       Encoded Existing Use  Encoded Proposed Use  Permit_year  Permit_month  \\\n",
       "84930                   3.0                   1.0       2015.0           6.0   \n",
       "15518                   3.0                   1.0       2013.0           6.0   \n",
       "38499                   9.0                  13.0       2014.0           2.0   \n",
       "79308                   1.0                   0.0       2015.0           4.0   \n",
       "11853                   1.0                   0.0       2013.0           5.0   \n",
       "\n",
       "       Permit_day  Output  \n",
       "84930        12.0       1  \n",
       "15518        18.0       1  \n",
       "38499        25.0       1  \n",
       "79308        20.0       1  \n",
       "11853        13.0       1  "
      ]
     },
     "execution_count": 137,
     "metadata": {
      "tags": []
     },
     "output_type": "execute_result"
    }
   ],
   "source": [
    "data_new.head()"
   ]
  },
  {
   "cell_type": "code",
   "execution_count": 138,
   "metadata": {
    "colab": {
     "base_uri": "https://localhost:8080/",
     "height": 73
    },
    "colab_type": "code",
    "id": "328PkNP1opjt",
    "outputId": "52e5f920-94d7-4e17-e182-3e145ee8ab88"
   },
   "outputs": [
    {
     "data": {
      "text/plain": [
       "1    136456\n",
       "0    136456\n",
       "Name: Output, dtype: int64"
      ]
     },
     "execution_count": 138,
     "metadata": {
      "tags": []
     },
     "output_type": "execute_result"
    }
   ],
   "source": [
    "#resample function\n",
    "from sklearn.utils import resample\n",
    "# Separate majority and minority classes\n",
    "df_majority = data_new[data_new.Output==1]\n",
    "df_minority = data_new[data_new.Output==0]\n",
    " \n",
    "# Upsample minority class\n",
    "df_minority_upsampled = resample(df_minority, \n",
    "                                 replace=True,     # sample with replacement\n",
    "                                 n_samples= 136456,    # to match majority class\n",
    "                                 random_state=123) # reproducible results\n",
    " \n",
    "# Combine majority class with upsampled minority class\n",
    "df_upsampled = pd.concat([df_majority, df_minority_upsampled])\n",
    " \n",
    "# Display new class counts\n",
    "df_upsampled.Output.value_counts()"
   ]
  },
  {
   "cell_type": "code",
   "execution_count": 139,
   "metadata": {
    "colab": {
     "base_uri": "https://localhost:8080/",
     "height": 278
    },
    "colab_type": "code",
    "id": "bgmA4Cs8sDoi",
    "outputId": "042ce630-eff1-4db7-97db-6207c43329c6"
   },
   "outputs": [
    {
     "data": {
      "text/html": [
       "<div>\n",
       "<style scoped>\n",
       "    .dataframe tbody tr th:only-of-type {\n",
       "        vertical-align: middle;\n",
       "    }\n",
       "\n",
       "    .dataframe tbody tr th {\n",
       "        vertical-align: top;\n",
       "    }\n",
       "\n",
       "    .dataframe thead th {\n",
       "        text-align: right;\n",
       "    }\n",
       "</style>\n",
       "<table border=\"1\" class=\"dataframe\">\n",
       "  <thead>\n",
       "    <tr style=\"text-align: right;\">\n",
       "      <th></th>\n",
       "      <th>Unit</th>\n",
       "      <th>Number of Existing Stories</th>\n",
       "      <th>Number of Proposed Stories</th>\n",
       "      <th>Estimated Cost</th>\n",
       "      <th>Existing Units</th>\n",
       "      <th>Proposed Units</th>\n",
       "      <th>Latitude</th>\n",
       "      <th>Longitude</th>\n",
       "      <th>Permit Type</th>\n",
       "      <th>Supervisor District</th>\n",
       "      <th>Zipcode</th>\n",
       "      <th>Encoding Neighborhood</th>\n",
       "      <th>Encoded Existing Use</th>\n",
       "      <th>Encoded Proposed Use</th>\n",
       "      <th>Permit_year</th>\n",
       "      <th>Permit_month</th>\n",
       "      <th>Permit_day</th>\n",
       "      <th>Output</th>\n",
       "    </tr>\n",
       "  </thead>\n",
       "  <tbody>\n",
       "    <tr>\n",
       "      <th>84930</th>\n",
       "      <td>79.624457</td>\n",
       "      <td>3.0</td>\n",
       "      <td>3.0</td>\n",
       "      <td>0.000006</td>\n",
       "      <td>5.0</td>\n",
       "      <td>5.0</td>\n",
       "      <td>0.416296</td>\n",
       "      <td>0.469585</td>\n",
       "      <td>8.0</td>\n",
       "      <td>8.0</td>\n",
       "      <td>94114.0</td>\n",
       "      <td>33.0</td>\n",
       "      <td>3.0</td>\n",
       "      <td>1.0</td>\n",
       "      <td>2015.0</td>\n",
       "      <td>6.0</td>\n",
       "      <td>12.0</td>\n",
       "      <td>1</td>\n",
       "    </tr>\n",
       "    <tr>\n",
       "      <th>15518</th>\n",
       "      <td>0.000000</td>\n",
       "      <td>3.0</td>\n",
       "      <td>3.0</td>\n",
       "      <td>0.000000</td>\n",
       "      <td>3.0</td>\n",
       "      <td>3.0</td>\n",
       "      <td>0.578420</td>\n",
       "      <td>0.459728</td>\n",
       "      <td>8.0</td>\n",
       "      <td>5.0</td>\n",
       "      <td>94117.0</td>\n",
       "      <td>5.0</td>\n",
       "      <td>3.0</td>\n",
       "      <td>1.0</td>\n",
       "      <td>2013.0</td>\n",
       "      <td>6.0</td>\n",
       "      <td>18.0</td>\n",
       "      <td>1</td>\n",
       "    </tr>\n",
       "    <tr>\n",
       "      <th>38499</th>\n",
       "      <td>79.624457</td>\n",
       "      <td>26.0</td>\n",
       "      <td>26.0</td>\n",
       "      <td>0.000000</td>\n",
       "      <td>0.0</td>\n",
       "      <td>0.0</td>\n",
       "      <td>0.681037</td>\n",
       "      <td>0.764599</td>\n",
       "      <td>8.0</td>\n",
       "      <td>6.0</td>\n",
       "      <td>94103.0</td>\n",
       "      <td>12.0</td>\n",
       "      <td>9.0</td>\n",
       "      <td>13.0</td>\n",
       "      <td>2014.0</td>\n",
       "      <td>2.0</td>\n",
       "      <td>25.0</td>\n",
       "      <td>1</td>\n",
       "    </tr>\n",
       "    <tr>\n",
       "      <th>79308</th>\n",
       "      <td>79.624457</td>\n",
       "      <td>2.0</td>\n",
       "      <td>3.0</td>\n",
       "      <td>0.000558</td>\n",
       "      <td>1.0</td>\n",
       "      <td>1.0</td>\n",
       "      <td>0.333806</td>\n",
       "      <td>0.573449</td>\n",
       "      <td>3.0</td>\n",
       "      <td>8.0</td>\n",
       "      <td>94131.0</td>\n",
       "      <td>9.0</td>\n",
       "      <td>1.0</td>\n",
       "      <td>0.0</td>\n",
       "      <td>2015.0</td>\n",
       "      <td>4.0</td>\n",
       "      <td>20.0</td>\n",
       "      <td>1</td>\n",
       "    </tr>\n",
       "    <tr>\n",
       "      <th>11853</th>\n",
       "      <td>79.624457</td>\n",
       "      <td>1.0</td>\n",
       "      <td>1.0</td>\n",
       "      <td>0.000002</td>\n",
       "      <td>1.0</td>\n",
       "      <td>1.0</td>\n",
       "      <td>0.363688</td>\n",
       "      <td>0.271611</td>\n",
       "      <td>8.0</td>\n",
       "      <td>7.0</td>\n",
       "      <td>94116.0</td>\n",
       "      <td>3.0</td>\n",
       "      <td>1.0</td>\n",
       "      <td>0.0</td>\n",
       "      <td>2013.0</td>\n",
       "      <td>5.0</td>\n",
       "      <td>13.0</td>\n",
       "      <td>1</td>\n",
       "    </tr>\n",
       "  </tbody>\n",
       "</table>\n",
       "</div>"
      ],
      "text/plain": [
       "            Unit  Number of Existing Stories  Number of Proposed Stories  \\\n",
       "84930  79.624457                         3.0                         3.0   \n",
       "15518   0.000000                         3.0                         3.0   \n",
       "38499  79.624457                        26.0                        26.0   \n",
       "79308  79.624457                         2.0                         3.0   \n",
       "11853  79.624457                         1.0                         1.0   \n",
       "\n",
       "       Estimated Cost  Existing Units  Proposed Units  Latitude  Longitude  \\\n",
       "84930        0.000006             5.0             5.0  0.416296   0.469585   \n",
       "15518        0.000000             3.0             3.0  0.578420   0.459728   \n",
       "38499        0.000000             0.0             0.0  0.681037   0.764599   \n",
       "79308        0.000558             1.0             1.0  0.333806   0.573449   \n",
       "11853        0.000002             1.0             1.0  0.363688   0.271611   \n",
       "\n",
       "       Permit Type  Supervisor District  Zipcode  Encoding Neighborhood  \\\n",
       "84930          8.0                  8.0  94114.0                   33.0   \n",
       "15518          8.0                  5.0  94117.0                    5.0   \n",
       "38499          8.0                  6.0  94103.0                   12.0   \n",
       "79308          3.0                  8.0  94131.0                    9.0   \n",
       "11853          8.0                  7.0  94116.0                    3.0   \n",
       "\n",
       "       Encoded Existing Use  Encoded Proposed Use  Permit_year  Permit_month  \\\n",
       "84930                   3.0                   1.0       2015.0           6.0   \n",
       "15518                   3.0                   1.0       2013.0           6.0   \n",
       "38499                   9.0                  13.0       2014.0           2.0   \n",
       "79308                   1.0                   0.0       2015.0           4.0   \n",
       "11853                   1.0                   0.0       2013.0           5.0   \n",
       "\n",
       "       Permit_day  Output  \n",
       "84930        12.0       1  \n",
       "15518        18.0       1  \n",
       "38499        25.0       1  \n",
       "79308        20.0       1  \n",
       "11853        13.0       1  "
      ]
     },
     "execution_count": 139,
     "metadata": {
      "tags": []
     },
     "output_type": "execute_result"
    }
   ],
   "source": [
    "df_upsampled.head()"
   ]
  },
  {
   "cell_type": "code",
   "execution_count": 0,
   "metadata": {
    "colab": {},
    "colab_type": "code",
    "id": "IVNgOHq9or2n"
   },
   "outputs": [],
   "source": [
    "from sklearn.ensemble import RandomForestClassifier\n",
    "y_train_new = df_upsampled['Output']\n",
    "X_train_new = df_upsampled.drop(['Output'],axis = 1)\n",
    "# X2_train, X2_test, y2_train, y2_test = train_test_split(X2,y2, stratify = y2, random_state = 46, test_size = 0.2)\n",
    "rf_upsample = RandomForestClassifier()"
   ]
  },
  {
   "cell_type": "code",
   "execution_count": 141,
   "metadata": {
    "colab": {
     "base_uri": "https://localhost:8080/",
     "height": 147
    },
    "colab_type": "code",
    "id": "fhmxnFZppBGT",
    "outputId": "691a2436-8d2a-429a-9ee1-462a4228c2d7"
   },
   "outputs": [
    {
     "data": {
      "text/plain": [
       "RandomForestClassifier(bootstrap=True, class_weight=None, criterion='gini',\n",
       "            max_depth=None, max_features='auto', max_leaf_nodes=None,\n",
       "            min_impurity_decrease=0.0, min_impurity_split=None,\n",
       "            min_samples_leaf=1, min_samples_split=2,\n",
       "            min_weight_fraction_leaf=0.0, n_estimators=10, n_jobs=1,\n",
       "            oob_score=False, random_state=None, verbose=0,\n",
       "            warm_start=False)"
      ]
     },
     "execution_count": 141,
     "metadata": {
      "tags": []
     },
     "output_type": "execute_result"
    }
   ],
   "source": [
    "#fitting random forest\n",
    "rf_upsample.fit(X_train_new, y_train_new)"
   ]
  },
  {
   "cell_type": "code",
   "execution_count": 142,
   "metadata": {
    "colab": {
     "base_uri": "https://localhost:8080/",
     "height": 91
    },
    "colab_type": "code",
    "id": "L2ADB8oCug52",
    "outputId": "4562fcb7-1c1c-4416-ca59-85947b540ed5"
   },
   "outputs": [
    {
     "data": {
      "text/plain": [
       "array([0.01303059, 0.04184666, 0.03396388, 0.17343899, 0.04063424,\n",
       "       0.03586474, 0.11759664, 0.11902494, 0.04730641, 0.02560665,\n",
       "       0.0415961 , 0.04288224, 0.02804311, 0.02410466, 0.04788567,\n",
       "       0.07070991, 0.09646458])"
      ]
     },
     "execution_count": 142,
     "metadata": {
      "tags": []
     },
     "output_type": "execute_result"
    }
   ],
   "source": [
    "#getting feature importance\n",
    "rf_upsample.feature_importances_"
   ]
  },
  {
   "cell_type": "code",
   "execution_count": 143,
   "metadata": {
    "colab": {
     "base_uri": "https://localhost:8080/",
     "height": 284
    },
    "colab_type": "code",
    "id": "yPsuie9Kukfc",
    "outputId": "eeb6c355-c7e4-415c-dd02-fe3075c23ca0"
   },
   "outputs": [
    {
     "data": {
      "text/plain": [
       "<Container object of 17 artists>"
      ]
     },
     "execution_count": 143,
     "metadata": {
      "tags": []
     },
     "output_type": "execute_result"
    },
    {
     "data": {
      "image/png": "[encoded data removed]",
      "text/plain": [
       "<matplotlib.figure.Figure at 0x7fc4570acf98>"
      ]
     },
     "metadata": {
      "tags": []
     },
     "output_type": "display_data"
    }
   ],
   "source": [
    "# bar graph of feature importance\n",
    "import matplotlib.pyplot as plt\n",
    "plt.bar(range(len(rf_upsample.feature_importances_)),rf_upsample.feature_importances_)"
   ]
  },
  {
   "cell_type": "code",
   "execution_count": 144,
   "metadata": {
    "colab": {
     "base_uri": "https://localhost:8080/",
     "height": 36
    },
    "colab_type": "code",
    "id": "FwsMPdUI5nAT",
    "outputId": "337b8647-cf55-4c21-8e40-c0aa94f1eddc"
   },
   "outputs": [
    {
     "data": {
      "text/plain": [
       "1.0"
      ]
     },
     "execution_count": 144,
     "metadata": {
      "tags": []
     },
     "output_type": "execute_result"
    }
   ],
   "source": [
    "#prediction \n",
    "rf_upsample.score(X_test , rf_upsample.predict(X_test))"
   ]
  },
  {
   "cell_type": "code",
   "execution_count": 145,
   "metadata": {
    "colab": {
     "base_uri": "https://localhost:8080/",
     "height": 36
    },
    "colab_type": "code",
    "id": "lZL_0jJBsRlI",
    "outputId": "1987586d-d3a1-49eb-e221-880a08ae85d3"
   },
   "outputs": [
    {
     "data": {
      "text/plain": [
       "1.0"
      ]
     },
     "execution_count": 145,
     "metadata": {
      "tags": []
     },
     "output_type": "execute_result"
    }
   ],
   "source": [
    "#training score\n",
    "rf_upsample.score(X_train , rf_upsample.predict(X_train))"
   ]
  },
  {
   "cell_type": "code",
   "execution_count": 146,
   "metadata": {
    "colab": {
     "base_uri": "https://localhost:8080/",
     "height": 147
    },
    "colab_type": "code",
    "id": "deytwuTE5rJX",
    "outputId": "f7d6eb1c-b8a4-44ff-9bf4-1ada8b0cedf4"
   },
   "outputs": [
    {
     "name": "stdout",
     "output_type": "stream",
     "text": [
      "             precision    recall  f1-score   support\n",
      "\n",
      "          0       0.62      0.21      0.31       312\n",
      "          1       0.99      1.00      1.00     34115\n",
      "\n",
      "avg / total       0.99      0.99      0.99     34427\n",
      "\n"
     ]
    }
   ],
   "source": [
    "#classification report \n",
    "from sklearn.metrics import classification_report, confusion_matrix\n",
    "print(classification_report(y_test,rf_upsample.predict(X_test)))"
   ]
  },
  {
   "cell_type": "code",
   "execution_count": 147,
   "metadata": {
    "colab": {
     "base_uri": "https://localhost:8080/",
     "height": 54
    },
    "colab_type": "code",
    "id": "NMBs48NtZ7J4",
    "outputId": "f1a08182-4e50-40c4-fcdb-30acb88325da"
   },
   "outputs": [
    {
     "name": "stdout",
     "output_type": "stream",
     "text": [
      "[[   64   248]\n",
      " [   39 34076]]\n"
     ]
    }
   ],
   "source": [
    "#confusion matrix\n",
    "print(confusion_matrix(y_test,  rf_upsample.predict(X_test)))"
   ]
  },
  {
   "cell_type": "markdown",
   "metadata": {
    "colab_type": "text",
    "id": "tw2qVVM24wp8"
   },
   "source": [
    "# One-hot encoding of Data"
   ]
  },
  {
   "cell_type": "markdown",
   "metadata": {
    "colab_type": "text",
    "id": "dWEltDiX8_NE"
   },
   "source": [
    "This section one-hot encodes data and processes the filled date and the location. The data is then stored in a file called 'data_merged.csv' which merges all the columns along with the one-hot encoding."
   ]
  },
  {
   "cell_type": "code",
   "execution_count": 0,
   "metadata": {
    "colab": {},
    "colab_type": "code",
    "id": "Ek2wQT7943f8"
   },
   "outputs": [],
   "source": [
    "data3 = data.copy()"
   ]
  },
  {
   "cell_type": "code",
   "execution_count": 0,
   "metadata": {
    "colab": {},
    "colab_type": "code",
    "id": "P1xaM0fJ44GC"
   },
   "outputs": [],
   "source": [
    "data3.drop(['Permit Number', 'Permit Type Definition',\n",
    "       'Permit Creation Date', 'Block', 'Lot', 'Street Number',\n",
    "       'Street Number Suffix', 'Street Name', 'Street Suffix', 'Unit',\n",
    "       'Unit Suffix','Record ID'], axis = 1, inplace = True)"
   ]
  },
  {
   "cell_type": "code",
   "execution_count": 14,
   "metadata": {
    "colab": {
     "base_uri": "https://localhost:8080/",
     "height": 539
    },
    "colab_type": "code",
    "id": "4n7VPKI-44Cj",
    "outputId": "10ed31de-d072-43b2-d806-ff1004157476"
   },
   "outputs": [
    {
     "name": "stdout",
     "output_type": "stream",
     "text": [
      "  Current Status  Filed Date  Number of Existing Stories  \\\n",
      "0        expired  05/06/2015                         6.0   \n",
      "1         issued  04/19/2016                         7.0   \n",
      "2       complete  11/07/2016                         2.0   \n",
      "3         issued  11/28/2016                         3.0   \n",
      "4         issued  06/14/2017                         5.0   \n",
      "\n",
      "   Number of Proposed Stories  Estimated Cost  Existing Units  Proposed Units  \\\n",
      "0                         NaN        0.000007           143.0             NaN   \n",
      "1                         NaN        0.000000             NaN             NaN   \n",
      "2                         2.0        0.000004             1.0             1.0   \n",
      "3                         NaN        0.000186             NaN             NaN   \n",
      "4                         5.0        0.000007           326.0           326.0   \n",
      "\n",
      "                                    Location  0  1 ...   269  270  271  272  \\\n",
      "0  (37.785719256680785, -122.40852313194863)  0  0 ...     0    0    0    0   \n",
      "1   (37.78733980600732, -122.41063199757738)  0  0 ...     0    0    0    0   \n",
      "2   (37.79595867909168, -122.41557405519474)  0  0 ...     0    0    0    0   \n",
      "3   (37.78315261897309, -122.40950883997789)  0  0 ...     0    0    0    0   \n",
      "4   (37.75922331346539, -122.39170402628598)  0  0 ...     0    0    0    0   \n",
      "\n",
      "   273  274  275  276  277  278  \n",
      "0    0    0    0    0    0    0  \n",
      "1    0    0    0    0    0    0  \n",
      "2    0    0    0    0    0    0  \n",
      "3    0    0    0    0    0    0  \n",
      "4    0    0    0    0    0    0  \n",
      "\n",
      "[5 rows x 287 columns]\n"
     ]
    }
   ],
   "source": [
    "j=0\n",
    "\n",
    "permit_type_onehot = pd.get_dummies(data3['Permit Type'],dummy_na= True)\n",
    "(a,b) = np.shape(permit_type_onehot)\n",
    "permit_type_onehot.columns = [i +j for i in range(b)]\n",
    "j = j +b\n",
    "\n",
    "existing_use_onehot  =  pd.get_dummies(data3['Existing Use'],dummy_na= True)\n",
    "(a,b) = np.shape(existing_use_onehot)\n",
    "existing_use_onehot.columns = [i+j for i in range(b)]\n",
    "j = j+b\n",
    "\n",
    "\n",
    "proposed_use_onehot  =  pd.get_dummies(data3['Proposed Use'],dummy_na= True)\n",
    "(a,b) = np.shape(proposed_use_onehot)\n",
    "proposed_use_onehot.columns = [i+j for i in range(b)]\n",
    "j = j+b\n",
    "\n",
    "\n",
    "supervisor_district_onehot  =  pd.get_dummies(data3['Supervisor District'],dummy_na= True)\n",
    "(a,b) = np.shape(supervisor_district_onehot)\n",
    "supervisor_district_onehot.columns = [i+j for i in range(b)]\n",
    "j = j+b\n",
    "\n",
    "neighborhood_onehot  =  pd.get_dummies(data3['Neighborhoods - Analysis Boundaries'],dummy_na= True)\n",
    "(a,b) = np.shape(neighborhood_onehot)\n",
    "neighborhood_onehot.columns = [i+j for i in range(b)]\n",
    "j = j+b\n",
    "\n",
    "zipcode_onehot  =  pd.get_dummies(data3['Zipcode'],dummy_na= True)\n",
    "(a,b) = np.shape(zipcode_onehot)\n",
    "zipcode_onehot.columns = [i+j for i in range(b)]\n",
    "j = j+b\n",
    "\n",
    "data_merged = data3.drop(['Permit Type', 'Existing Use',  'Proposed Use', 'Supervisor District',\n",
    "                          'Neighborhoods - Analysis Boundaries', 'Zipcode'], axis = 1)\n",
    "\n",
    "data_merged = data_merged.join(permit_type_onehot)\n",
    "data_merged = data_merged.join(existing_use_onehot)\n",
    "data_merged = data_merged.join(proposed_use_onehot)\n",
    "data_merged = data_merged.join(supervisor_district_onehot)\n",
    "data_merged = data_merged.join(neighborhood_onehot)\n",
    "data_merged = data_merged.join(zipcode_onehot)\n",
    "\n",
    "\n",
    "\n",
    "print(data_merged.head())\n",
    "\n"
   ]
  },
  {
   "cell_type": "code",
   "execution_count": 15,
   "metadata": {
    "colab": {
     "base_uri": "https://localhost:8080/",
     "height": 233
    },
    "colab_type": "code",
    "id": "VirnsWen43_8",
    "outputId": "b26c270c-2f3a-4f6c-a546-f239be8ff383"
   },
   "outputs": [
    {
     "name": "stdout",
     "output_type": "stream",
     "text": [
      "Index([            'Current Status',                 'Filed Date',\n",
      "       'Number of Existing Stories', 'Number of Proposed Stories',\n",
      "                   'Estimated Cost',             'Existing Units',\n",
      "                   'Proposed Units',                   'Location',\n",
      "                                  0,                            1,\n",
      "       ...\n",
      "                                271,                          272,\n",
      "                                273,                          274,\n",
      "                                275,                          276,\n",
      "                                277,                          278,\n",
      "                         'Latitude',                  'Longitude'],\n",
      "      dtype='object', length=289)\n"
     ]
    }
   ],
   "source": [
    "data4=data.copy()\n",
    "combined= data4['Location'].str.strip('()').str.split(', ', expand=True).rename(columns={0:'Latitude', 1:'Longitude'})\n",
    "data4['Latitude']= combined['Latitude']\n",
    "data4['Longitude']= combined['Longitude']\n",
    "data4['Latitude'] = data4['Latitude'].apply(pd.to_numeric, errors='coerce')\n",
    "data4['Longitude'] = data4['Longitude'].apply(pd.to_numeric, errors='coerce')\n",
    "data4['Longitude']=(data4['Longitude']- data4['Longitude'].min())/( data4['Longitude'].max()- data4['Longitude'].min())\n",
    "data4['Latitude']=(data4['Latitude']- data4['Latitude'].min())/( data4['Latitude'].max()- data4['Latitude'].min())\n",
    "data_merged['Latitude'] = data4['Latitude']\n",
    "data_merged['Longitude'] = data4['Longitude']\n",
    "print(data_merged.columns)"
   ]
  },
  {
   "cell_type": "code",
   "execution_count": 0,
   "metadata": {
    "colab": {},
    "colab_type": "code",
    "id": "zg3H8WE5439H"
   },
   "outputs": [],
   "source": [
    "from datetime import datetime\n",
    "\n",
    "year_1 = lambda x: datetime.strptime(x, \"%m/%d/%Y\" ).year\n",
    "data_merged['Filed_year'] = data_merged['Filed Date'].map(year_1)\n",
    "\n",
    "\n",
    "month_1 = lambda x: datetime.strptime(x, \"%m/%d/%Y\" ).month\n",
    "data_merged['Filed_month'] = data_merged['Filed Date'].map(month_1)\n",
    "\n",
    "\n",
    "day_1 = lambda x: datetime.strptime(x, \"%m/%d/%Y\" ).day\n",
    "data_merged['Filed_day'] = data_merged['Filed Date'].map(day_1)\n",
    "\n",
    "data_merged.drop(['Filed Date', 'Location'], axis =1, inplace = True)\n"
   ]
  },
  {
   "cell_type": "code",
   "execution_count": 17,
   "metadata": {
    "colab": {
     "base_uri": "https://localhost:8080/",
     "height": 233
    },
    "colab_type": "code",
    "id": "R_S9LkQ5436t",
    "outputId": "a2ff48b6-d486-41bd-e9ee-19184bf978e0"
   },
   "outputs": [
    {
     "name": "stdout",
     "output_type": "stream",
     "text": [
      "Index(['Number of Existing Stories', 'Number of Proposed Stories',\n",
      "                   'Estimated Cost',             'Existing Units',\n",
      "                   'Proposed Units',                            0,\n",
      "                                  1,                            2,\n",
      "                                  3,                            4,\n",
      "       ...\n",
      "                                274,                          275,\n",
      "                                276,                          277,\n",
      "                                278,                   'Latitude',\n",
      "                        'Longitude',                 'Filed_year',\n",
      "                      'Filed_month',                  'Filed_day'],\n",
      "      dtype='object', length=289)\n"
     ]
    }
   ],
   "source": [
    "data_merged.drop(['Current Status'], axis =1, inplace = True)\n",
    "print(data_merged.columns)"
   ]
  },
  {
   "cell_type": "code",
   "execution_count": 0,
   "metadata": {
    "colab": {},
    "colab_type": "code",
    "id": "-M41NrqT433x"
   },
   "outputs": [],
   "source": [
    "data_merged.to_csv(path +'merged_data.csv')"
   ]
  },
  {
   "cell_type": "code",
   "execution_count": 18,
   "metadata": {
    "colab": {
     "base_uri": "https://localhost:8080/",
     "height": 35
    },
    "colab_type": "code",
    "id": "P3_0-qOY430q",
    "outputId": "b0d80a92-36d2-4a89-a0b4-bfa3a3c0ea73"
   },
   "outputs": [
    {
     "data": {
      "text/plain": [
       "(172133, 289)"
      ]
     },
     "execution_count": 18,
     "metadata": {
      "tags": []
     },
     "output_type": "execute_result"
    }
   ],
   "source": [
    "data_merged.shape"
   ]
  },
  {
   "cell_type": "markdown",
   "metadata": {
    "colab_type": "text",
    "id": "EAwTNvJ1VWXL"
   },
   "source": [
    "#Random Forest with new dataset"
   ]
  },
  {
   "cell_type": "code",
   "execution_count": 0,
   "metadata": {
    "colab": {},
    "colab_type": "code",
    "id": "83wnRHnEdcIj"
   },
   "outputs": [],
   "source": [
    "#importing new data\n",
    "data5 = pd.read_csv(path +'merged_data.csv')"
   ]
  },
  {
   "cell_type": "code",
   "execution_count": 228,
   "metadata": {
    "colab": {
     "base_uri": "https://localhost:8080/",
     "height": 270
    },
    "colab_type": "code",
    "id": "wHFasCeOi4is",
    "outputId": "06a76e05-7b0f-472c-c9cf-4e735e3fd730"
   },
   "outputs": [
    {
     "data": {
      "text/html": [
       "<div>\n",
       "<style scoped>\n",
       "    .dataframe tbody tr th:only-of-type {\n",
       "        vertical-align: middle;\n",
       "    }\n",
       "\n",
       "    .dataframe tbody tr th {\n",
       "        vertical-align: top;\n",
       "    }\n",
       "\n",
       "    .dataframe thead th {\n",
       "        text-align: right;\n",
       "    }\n",
       "</style>\n",
       "<table border=\"1\" class=\"dataframe\">\n",
       "  <thead>\n",
       "    <tr style=\"text-align: right;\">\n",
       "      <th></th>\n",
       "      <th>Unnamed: 0</th>\n",
       "      <th>Number of Existing Stories</th>\n",
       "      <th>Number of Proposed Stories</th>\n",
       "      <th>Estimated Cost</th>\n",
       "      <th>Existing Units</th>\n",
       "      <th>Proposed Units</th>\n",
       "      <th>0</th>\n",
       "      <th>1</th>\n",
       "      <th>2</th>\n",
       "      <th>3</th>\n",
       "      <th>...</th>\n",
       "      <th>274</th>\n",
       "      <th>275</th>\n",
       "      <th>276</th>\n",
       "      <th>277</th>\n",
       "      <th>278</th>\n",
       "      <th>Latitude</th>\n",
       "      <th>Longitude</th>\n",
       "      <th>Filed_year</th>\n",
       "      <th>Filed_month</th>\n",
       "      <th>Filed_day</th>\n",
       "    </tr>\n",
       "  </thead>\n",
       "  <tbody>\n",
       "    <tr>\n",
       "      <th>0</th>\n",
       "      <td>0</td>\n",
       "      <td>6.0</td>\n",
       "      <td>NaN</td>\n",
       "      <td>0.000007</td>\n",
       "      <td>143.0</td>\n",
       "      <td>NaN</td>\n",
       "      <td>0</td>\n",
       "      <td>0</td>\n",
       "      <td>0</td>\n",
       "      <td>1</td>\n",
       "      <td>...</td>\n",
       "      <td>0</td>\n",
       "      <td>0</td>\n",
       "      <td>0</td>\n",
       "      <td>0</td>\n",
       "      <td>0</td>\n",
       "      <td>0.673289</td>\n",
       "      <td>0.705894</td>\n",
       "      <td>2015</td>\n",
       "      <td>5</td>\n",
       "      <td>6</td>\n",
       "    </tr>\n",
       "    <tr>\n",
       "      <th>1</th>\n",
       "      <td>1</td>\n",
       "      <td>7.0</td>\n",
       "      <td>NaN</td>\n",
       "      <td>0.000000</td>\n",
       "      <td>NaN</td>\n",
       "      <td>NaN</td>\n",
       "      <td>0</td>\n",
       "      <td>0</td>\n",
       "      <td>0</td>\n",
       "      <td>1</td>\n",
       "      <td>...</td>\n",
       "      <td>0</td>\n",
       "      <td>0</td>\n",
       "      <td>0</td>\n",
       "      <td>0</td>\n",
       "      <td>0</td>\n",
       "      <td>0.687359</td>\n",
       "      <td>0.691359</td>\n",
       "      <td>2016</td>\n",
       "      <td>4</td>\n",
       "      <td>19</td>\n",
       "    </tr>\n",
       "    <tr>\n",
       "      <th>2</th>\n",
       "      <td>2</td>\n",
       "      <td>2.0</td>\n",
       "      <td>2.0</td>\n",
       "      <td>0.000004</td>\n",
       "      <td>1.0</td>\n",
       "      <td>1.0</td>\n",
       "      <td>0</td>\n",
       "      <td>0</td>\n",
       "      <td>0</td>\n",
       "      <td>0</td>\n",
       "      <td>...</td>\n",
       "      <td>0</td>\n",
       "      <td>0</td>\n",
       "      <td>0</td>\n",
       "      <td>0</td>\n",
       "      <td>0</td>\n",
       "      <td>0.762188</td>\n",
       "      <td>0.657296</td>\n",
       "      <td>2016</td>\n",
       "      <td>11</td>\n",
       "      <td>7</td>\n",
       "    </tr>\n",
       "    <tr>\n",
       "      <th>3</th>\n",
       "      <td>3</td>\n",
       "      <td>3.0</td>\n",
       "      <td>NaN</td>\n",
       "      <td>0.000186</td>\n",
       "      <td>NaN</td>\n",
       "      <td>NaN</td>\n",
       "      <td>0</td>\n",
       "      <td>0</td>\n",
       "      <td>0</td>\n",
       "      <td>0</td>\n",
       "      <td>...</td>\n",
       "      <td>0</td>\n",
       "      <td>0</td>\n",
       "      <td>0</td>\n",
       "      <td>0</td>\n",
       "      <td>0</td>\n",
       "      <td>0.651006</td>\n",
       "      <td>0.699100</td>\n",
       "      <td>2016</td>\n",
       "      <td>11</td>\n",
       "      <td>28</td>\n",
       "    </tr>\n",
       "    <tr>\n",
       "      <th>4</th>\n",
       "      <td>4</td>\n",
       "      <td>5.0</td>\n",
       "      <td>5.0</td>\n",
       "      <td>0.000007</td>\n",
       "      <td>326.0</td>\n",
       "      <td>326.0</td>\n",
       "      <td>0</td>\n",
       "      <td>0</td>\n",
       "      <td>0</td>\n",
       "      <td>0</td>\n",
       "      <td>...</td>\n",
       "      <td>0</td>\n",
       "      <td>0</td>\n",
       "      <td>0</td>\n",
       "      <td>0</td>\n",
       "      <td>0</td>\n",
       "      <td>0.443251</td>\n",
       "      <td>0.821820</td>\n",
       "      <td>2017</td>\n",
       "      <td>6</td>\n",
       "      <td>14</td>\n",
       "    </tr>\n",
       "  </tbody>\n",
       "</table>\n",
       "<p>5 rows × 290 columns</p>\n",
       "</div>"
      ],
      "text/plain": [
       "   Unnamed: 0  Number of Existing Stories  Number of Proposed Stories  \\\n",
       "0           0                         6.0                         NaN   \n",
       "1           1                         7.0                         NaN   \n",
       "2           2                         2.0                         2.0   \n",
       "3           3                         3.0                         NaN   \n",
       "4           4                         5.0                         5.0   \n",
       "\n",
       "   Estimated Cost  Existing Units  Proposed Units  0  1  2  3    ...      274  \\\n",
       "0        0.000007           143.0             NaN  0  0  0  1    ...        0   \n",
       "1        0.000000             NaN             NaN  0  0  0  1    ...        0   \n",
       "2        0.000004             1.0             1.0  0  0  0  0    ...        0   \n",
       "3        0.000186             NaN             NaN  0  0  0  0    ...        0   \n",
       "4        0.000007           326.0           326.0  0  0  0  0    ...        0   \n",
       "\n",
       "   275  276  277  278  Latitude  Longitude  Filed_year  Filed_month  Filed_day  \n",
       "0    0    0    0    0  0.673289   0.705894        2015            5          6  \n",
       "1    0    0    0    0  0.687359   0.691359        2016            4         19  \n",
       "2    0    0    0    0  0.762188   0.657296        2016           11          7  \n",
       "3    0    0    0    0  0.651006   0.699100        2016           11         28  \n",
       "4    0    0    0    0  0.443251   0.821820        2017            6         14  \n",
       "\n",
       "[5 rows x 290 columns]"
      ]
     },
     "execution_count": 228,
     "metadata": {
      "tags": []
     },
     "output_type": "execute_result"
    }
   ],
   "source": [
    "data5.head()"
   ]
  },
  {
   "cell_type": "code",
   "execution_count": 0,
   "metadata": {
    "colab": {},
    "colab_type": "code",
    "id": "HVPCCvrhj6ZU"
   },
   "outputs": [],
   "source": [
    "#mean and mode impute\n",
    "from sklearn.preprocessing import Imputer\n",
    "imputer_mean = Imputer(missing_values='NaN', strategy='mean', axis=0)\n",
    "imputer_mode = Imputer(missing_values='NaN', strategy='most_frequent', axis=0)"
   ]
  },
  {
   "cell_type": "code",
   "execution_count": 0,
   "metadata": {
    "colab": {},
    "colab_type": "code",
    "id": "Xqq_zxjWKgK1"
   },
   "outputs": [],
   "source": [
    "\n",
    "data5= data5.drop(\"Unnamed: 0\", axis=1)"
   ]
  },
  {
   "cell_type": "code",
   "execution_count": 0,
   "metadata": {
    "colab": {},
    "colab_type": "code",
    "id": "nYT5SPngj6lW"
   },
   "outputs": [],
   "source": [
    "imputer_mean.fit(data5)\n",
    "X_new= imputer_mean.transform(data5)"
   ]
  },
  {
   "cell_type": "code",
   "execution_count": 0,
   "metadata": {
    "colab": {},
    "colab_type": "code",
    "id": "MB75fDgKj6in"
   },
   "outputs": [],
   "source": [
    "X_new= pd.DataFrame(X_new ,columns= data5.columns)"
   ]
  },
  {
   "cell_type": "code",
   "execution_count": 0,
   "metadata": {
    "colab": {},
    "colab_type": "code",
    "id": "CQNAPtO9j6fl"
   },
   "outputs": [],
   "source": [
    "data6 = pd.concat([X_new , y], axis=1)"
   ]
  },
  {
   "cell_type": "code",
   "execution_count": 234,
   "metadata": {
    "colab": {
     "base_uri": "https://localhost:8080/",
     "height": 270
    },
    "colab_type": "code",
    "id": "x3kZyyzzJjFA",
    "outputId": "85865a47-424f-4b66-8d5a-2336eb2873f8"
   },
   "outputs": [
    {
     "data": {
      "text/html": [
       "<div>\n",
       "<style scoped>\n",
       "    .dataframe tbody tr th:only-of-type {\n",
       "        vertical-align: middle;\n",
       "    }\n",
       "\n",
       "    .dataframe tbody tr th {\n",
       "        vertical-align: top;\n",
       "    }\n",
       "\n",
       "    .dataframe thead th {\n",
       "        text-align: right;\n",
       "    }\n",
       "</style>\n",
       "<table border=\"1\" class=\"dataframe\">\n",
       "  <thead>\n",
       "    <tr style=\"text-align: right;\">\n",
       "      <th></th>\n",
       "      <th>Number of Existing Stories</th>\n",
       "      <th>Number of Proposed Stories</th>\n",
       "      <th>Estimated Cost</th>\n",
       "      <th>Existing Units</th>\n",
       "      <th>Proposed Units</th>\n",
       "      <th>0</th>\n",
       "      <th>1</th>\n",
       "      <th>2</th>\n",
       "      <th>3</th>\n",
       "      <th>4</th>\n",
       "      <th>...</th>\n",
       "      <th>275</th>\n",
       "      <th>276</th>\n",
       "      <th>277</th>\n",
       "      <th>278</th>\n",
       "      <th>Latitude</th>\n",
       "      <th>Longitude</th>\n",
       "      <th>Filed_year</th>\n",
       "      <th>Filed_month</th>\n",
       "      <th>Filed_day</th>\n",
       "      <th>Output</th>\n",
       "    </tr>\n",
       "  </thead>\n",
       "  <tbody>\n",
       "    <tr>\n",
       "      <th>0</th>\n",
       "      <td>6.0</td>\n",
       "      <td>5.790699</td>\n",
       "      <td>0.000007</td>\n",
       "      <td>143.00000</td>\n",
       "      <td>16.516522</td>\n",
       "      <td>0.0</td>\n",
       "      <td>0.0</td>\n",
       "      <td>0.0</td>\n",
       "      <td>1.0</td>\n",
       "      <td>0.0</td>\n",
       "      <td>...</td>\n",
       "      <td>0.0</td>\n",
       "      <td>0.0</td>\n",
       "      <td>0.0</td>\n",
       "      <td>0.0</td>\n",
       "      <td>0.673289</td>\n",
       "      <td>0.705894</td>\n",
       "      <td>2015.0</td>\n",
       "      <td>5.0</td>\n",
       "      <td>6.0</td>\n",
       "      <td>1</td>\n",
       "    </tr>\n",
       "    <tr>\n",
       "      <th>1</th>\n",
       "      <td>7.0</td>\n",
       "      <td>5.790699</td>\n",
       "      <td>0.000000</td>\n",
       "      <td>15.75769</td>\n",
       "      <td>16.516522</td>\n",
       "      <td>0.0</td>\n",
       "      <td>0.0</td>\n",
       "      <td>0.0</td>\n",
       "      <td>1.0</td>\n",
       "      <td>0.0</td>\n",
       "      <td>...</td>\n",
       "      <td>0.0</td>\n",
       "      <td>0.0</td>\n",
       "      <td>0.0</td>\n",
       "      <td>0.0</td>\n",
       "      <td>0.687359</td>\n",
       "      <td>0.691359</td>\n",
       "      <td>2016.0</td>\n",
       "      <td>4.0</td>\n",
       "      <td>19.0</td>\n",
       "      <td>1</td>\n",
       "    </tr>\n",
       "    <tr>\n",
       "      <th>2</th>\n",
       "      <td>2.0</td>\n",
       "      <td>2.000000</td>\n",
       "      <td>0.000004</td>\n",
       "      <td>1.00000</td>\n",
       "      <td>1.000000</td>\n",
       "      <td>0.0</td>\n",
       "      <td>0.0</td>\n",
       "      <td>0.0</td>\n",
       "      <td>0.0</td>\n",
       "      <td>0.0</td>\n",
       "      <td>...</td>\n",
       "      <td>0.0</td>\n",
       "      <td>0.0</td>\n",
       "      <td>0.0</td>\n",
       "      <td>0.0</td>\n",
       "      <td>0.762188</td>\n",
       "      <td>0.657296</td>\n",
       "      <td>2016.0</td>\n",
       "      <td>11.0</td>\n",
       "      <td>7.0</td>\n",
       "      <td>1</td>\n",
       "    </tr>\n",
       "    <tr>\n",
       "      <th>3</th>\n",
       "      <td>3.0</td>\n",
       "      <td>5.790699</td>\n",
       "      <td>0.000186</td>\n",
       "      <td>15.75769</td>\n",
       "      <td>16.516522</td>\n",
       "      <td>0.0</td>\n",
       "      <td>0.0</td>\n",
       "      <td>0.0</td>\n",
       "      <td>0.0</td>\n",
       "      <td>0.0</td>\n",
       "      <td>...</td>\n",
       "      <td>0.0</td>\n",
       "      <td>0.0</td>\n",
       "      <td>0.0</td>\n",
       "      <td>0.0</td>\n",
       "      <td>0.651006</td>\n",
       "      <td>0.699100</td>\n",
       "      <td>2016.0</td>\n",
       "      <td>11.0</td>\n",
       "      <td>28.0</td>\n",
       "      <td>1</td>\n",
       "    </tr>\n",
       "    <tr>\n",
       "      <th>4</th>\n",
       "      <td>5.0</td>\n",
       "      <td>5.000000</td>\n",
       "      <td>0.000007</td>\n",
       "      <td>326.00000</td>\n",
       "      <td>326.000000</td>\n",
       "      <td>0.0</td>\n",
       "      <td>0.0</td>\n",
       "      <td>0.0</td>\n",
       "      <td>0.0</td>\n",
       "      <td>0.0</td>\n",
       "      <td>...</td>\n",
       "      <td>0.0</td>\n",
       "      <td>0.0</td>\n",
       "      <td>0.0</td>\n",
       "      <td>0.0</td>\n",
       "      <td>0.443251</td>\n",
       "      <td>0.821820</td>\n",
       "      <td>2017.0</td>\n",
       "      <td>6.0</td>\n",
       "      <td>14.0</td>\n",
       "      <td>1</td>\n",
       "    </tr>\n",
       "  </tbody>\n",
       "</table>\n",
       "<p>5 rows × 290 columns</p>\n",
       "</div>"
      ],
      "text/plain": [
       "   Number of Existing Stories  Number of Proposed Stories  Estimated Cost  \\\n",
       "0                         6.0                    5.790699        0.000007   \n",
       "1                         7.0                    5.790699        0.000000   \n",
       "2                         2.0                    2.000000        0.000004   \n",
       "3                         3.0                    5.790699        0.000186   \n",
       "4                         5.0                    5.000000        0.000007   \n",
       "\n",
       "   Existing Units  Proposed Units    0    1    2    3    4   ...    275  276  \\\n",
       "0       143.00000       16.516522  0.0  0.0  0.0  1.0  0.0   ...    0.0  0.0   \n",
       "1        15.75769       16.516522  0.0  0.0  0.0  1.0  0.0   ...    0.0  0.0   \n",
       "2         1.00000        1.000000  0.0  0.0  0.0  0.0  0.0   ...    0.0  0.0   \n",
       "3        15.75769       16.516522  0.0  0.0  0.0  0.0  0.0   ...    0.0  0.0   \n",
       "4       326.00000      326.000000  0.0  0.0  0.0  0.0  0.0   ...    0.0  0.0   \n",
       "\n",
       "   277  278  Latitude  Longitude  Filed_year  Filed_month  Filed_day  Output  \n",
       "0  0.0  0.0  0.673289   0.705894      2015.0          5.0        6.0       1  \n",
       "1  0.0  0.0  0.687359   0.691359      2016.0          4.0       19.0       1  \n",
       "2  0.0  0.0  0.762188   0.657296      2016.0         11.0        7.0       1  \n",
       "3  0.0  0.0  0.651006   0.699100      2016.0         11.0       28.0       1  \n",
       "4  0.0  0.0  0.443251   0.821820      2017.0          6.0       14.0       1  \n",
       "\n",
       "[5 rows x 290 columns]"
      ]
     },
     "execution_count": 234,
     "metadata": {
      "tags": []
     },
     "output_type": "execute_result"
    }
   ],
   "source": [
    "data6.head()"
   ]
  },
  {
   "cell_type": "code",
   "execution_count": 0,
   "metadata": {
    "colab": {},
    "colab_type": "code",
    "id": "hVSy_SEK0Rsm"
   },
   "outputs": [],
   "source": [
    "X_train, X_test, y_train, y_test = train_test_split(X_new, y, stratify = y, random_state = 46, test_size = 0.2)"
   ]
  },
  {
   "cell_type": "code",
   "execution_count": 0,
   "metadata": {
    "colab": {},
    "colab_type": "code",
    "id": "EDg2XGKd0YXv"
   },
   "outputs": [],
   "source": [
    "data_new2= pd.concat([X_train , y_train], axis=1)"
   ]
  },
  {
   "cell_type": "code",
   "execution_count": 237,
   "metadata": {
    "colab": {
     "base_uri": "https://localhost:8080/",
     "height": 72
    },
    "colab_type": "code",
    "id": "Nx9e1v-Y0fT7",
    "outputId": "e574d4d9-8ade-45df-e156-27e64c5f9545"
   },
   "outputs": [
    {
     "data": {
      "text/plain": [
       "1    136456\n",
       "0    136456\n",
       "Name: Output, dtype: int64"
      ]
     },
     "execution_count": 237,
     "metadata": {
      "tags": []
     },
     "output_type": "execute_result"
    }
   ],
   "source": [
    "from sklearn.utils import resample\n",
    "# Separate majority and minority classes\n",
    "df_majority = data_new2[data_new.Output==1]\n",
    "df_minority = data_new2[data_new.Output==0]\n",
    " \n",
    "# Upsample minority class\n",
    "df_minority_upsampled = resample(df_minority, \n",
    "                                 replace=True,     # sample with replacement\n",
    "                                 n_samples= 136456,    # to match majority class\n",
    "                                 random_state=123) # reproducible results\n",
    " \n",
    "# Combine majority class with upsampled minority class\n",
    "df_upsampled = pd.concat([df_majority, df_minority_upsampled])\n",
    " \n",
    "# Display new class counts\n",
    "df_upsampled.Output.value_counts()"
   ]
  },
  {
   "cell_type": "code",
   "execution_count": 0,
   "metadata": {
    "colab": {},
    "colab_type": "code",
    "id": "iRm1u8NKJjKW"
   },
   "outputs": [],
   "source": [
    "from sklearn.ensemble import RandomForestClassifier\n",
    "y_train_new = df_upsampled['Output']\n",
    "X_train_new = df_upsampled.drop(['Output'],axis = 1)\n",
    "# X2_train, X2_test, y2_train, y2_test = train_test_split(X2,y2, stratify = y2, random_state = 46, test_size = 0.2)\n",
    "rf_new = RandomForestClassifier()"
   ]
  },
  {
   "cell_type": "code",
   "execution_count": 0,
   "metadata": {
    "colab": {},
    "colab_type": "code",
    "id": "i9FNMrQNJjB5"
   },
   "outputs": [],
   "source": []
  },
  {
   "cell_type": "code",
   "execution_count": 239,
   "metadata": {
    "colab": {
     "base_uri": "https://localhost:8080/",
     "height": 144
    },
    "colab_type": "code",
    "id": "tf0YtXkRVwET",
    "outputId": "46596b22-5d43-4ec8-bb2b-b7fe8a537bb3"
   },
   "outputs": [
    {
     "data": {
      "text/plain": [
       "RandomForestClassifier(bootstrap=True, class_weight=None, criterion='gini',\n",
       "            max_depth=None, max_features='auto', max_leaf_nodes=None,\n",
       "            min_impurity_decrease=0.0, min_impurity_split=None,\n",
       "            min_samples_leaf=1, min_samples_split=2,\n",
       "            min_weight_fraction_leaf=0.0, n_estimators=10, n_jobs=1,\n",
       "            oob_score=False, random_state=None, verbose=0,\n",
       "            warm_start=False)"
      ]
     },
     "execution_count": 239,
     "metadata": {
      "tags": []
     },
     "output_type": "execute_result"
    }
   ],
   "source": [
    "rf_new.fit(X_train_new, y_train_new)"
   ]
  },
  {
   "cell_type": "code",
   "execution_count": 240,
   "metadata": {
    "colab": {
     "base_uri": "https://localhost:8080/",
     "height": 1343
    },
    "colab_type": "code",
    "id": "CWZp1jKnVwNc",
    "outputId": "53931f13-cac0-4bb0-8559-146adc8772d3"
   },
   "outputs": [
    {
     "data": {
      "text/plain": [
       "array([6.08180247e-02, 3.50355940e-02, 1.11549182e-01, 3.43096081e-02,\n",
       "       3.30545291e-02, 2.41998155e-04, 7.08790577e-04, 9.11196124e-03,\n",
       "       8.53345563e-03, 1.02197242e-04, 8.40547035e-04, 2.66969813e-03,\n",
       "       3.53396732e-02, 0.00000000e+00, 3.51232672e-03, 3.18445328e-03,\n",
       "       1.49177705e-04, 9.88947508e-06, 3.46509669e-06, 0.00000000e+00,\n",
       "       2.07487894e-05, 2.49010133e-04, 6.52719385e-03, 2.88353990e-04,\n",
       "       3.02988023e-04, 4.68407951e-04, 7.32224948e-05, 0.00000000e+00,\n",
       "       0.00000000e+00, 1.37795531e-04, 5.27275496e-06, 0.00000000e+00,\n",
       "       1.12552061e-05, 3.80159456e-04, 5.74004197e-04, 2.87887644e-05,\n",
       "       0.00000000e+00, 0.00000000e+00, 1.71021144e-05, 6.94152249e-06,\n",
       "       1.24369092e-06, 7.26010380e-06, 0.00000000e+00, 1.37314014e-04,\n",
       "       2.67884753e-05, 1.84474019e-06, 3.37034295e-04, 2.59206914e-03,\n",
       "       7.28391776e-06, 1.05123001e-04, 1.97319526e-04, 5.63912556e-05,\n",
       "       0.00000000e+00, 2.57114420e-04, 4.84881180e-04, 3.69567591e-06,\n",
       "       2.68001677e-04, 4.05496226e-05, 1.25292091e-06, 3.55566921e-05,\n",
       "       0.00000000e+00, 1.28774139e-06, 1.43943316e-05, 0.00000000e+00,\n",
       "       1.97101330e-04, 2.00703338e-05, 2.38365651e-06, 0.00000000e+00,\n",
       "       0.00000000e+00, 1.99389012e-06, 3.54676086e-03, 0.00000000e+00,\n",
       "       1.97121607e-06, 1.94862229e-04, 1.12498187e-05, 2.07193406e-05,\n",
       "       1.32612727e-04, 1.98527170e-04, 1.72549916e-04, 7.03445188e-06,\n",
       "       7.01368017e-05, 0.00000000e+00, 1.59480725e-05, 7.17476776e-05,\n",
       "       3.02775416e-04, 3.03927669e-03, 0.00000000e+00, 7.01048383e-04,\n",
       "       0.00000000e+00, 4.47320767e-05, 0.00000000e+00, 8.29957661e-06,\n",
       "       8.48631829e-06, 7.95090250e-07, 3.20995150e-05, 2.64744333e-06,\n",
       "       0.00000000e+00, 0.00000000e+00, 5.29586538e-05, 8.66575548e-04,\n",
       "       1.18942154e-04, 1.03212661e-03, 3.24657142e-04, 5.91677589e-04,\n",
       "       1.13579984e-05, 2.33192435e-04, 0.00000000e+00, 2.62605531e-02,\n",
       "       3.49057634e-03, 4.74120757e-03, 2.24927897e-06, 0.00000000e+00,\n",
       "       3.12912047e-06, 0.00000000e+00, 6.00154418e-06, 8.63832654e-05,\n",
       "       5.77891072e-03, 4.45153213e-04, 4.52593020e-04, 6.12694980e-05,\n",
       "       1.88148957e-04, 0.00000000e+00, 8.92408608e-07, 3.13838112e-06,\n",
       "       0.00000000e+00, 4.20485016e-06, 2.46611494e-06, 3.47990998e-04,\n",
       "       6.89726512e-04, 3.47711041e-05, 1.21311501e-06, 0.00000000e+00,\n",
       "       3.71557512e-06, 5.70106073e-06, 8.28725434e-06, 1.37227686e-05,\n",
       "       7.68451187e-06, 1.47237259e-04, 8.84949530e-06, 8.18644599e-07,\n",
       "       8.50066135e-05, 3.40979843e-03, 0.00000000e+00, 1.26300605e-04,\n",
       "       3.19607125e-04, 2.21395579e-05, 0.00000000e+00, 3.89842063e-05,\n",
       "       5.77423174e-05, 4.08182611e-06, 4.13575620e-04, 1.07390118e-04,\n",
       "       1.05506132e-07, 3.81352385e-05, 4.30082025e-06, 7.13807892e-06,\n",
       "       0.00000000e+00, 1.32293840e-06, 1.77380878e-04, 2.28881198e-05,\n",
       "       0.00000000e+00, 2.21697636e-05, 0.00000000e+00, 1.02920793e-06,\n",
       "       0.00000000e+00, 4.09756164e-03, 0.00000000e+00, 2.47419861e-04,\n",
       "       1.24289908e-05, 0.00000000e+00, 2.73816769e-05, 1.32720269e-04,\n",
       "       2.65168601e-04, 5.79499836e-05, 3.70013691e-06, 5.22590032e-05,\n",
       "       0.00000000e+00, 9.05156323e-06, 2.91600038e-04, 5.66992620e-04,\n",
       "       1.73301386e-03, 0.00000000e+00, 1.14094566e-03, 1.43567042e-06,\n",
       "       5.05960429e-05, 0.00000000e+00, 3.24624990e-06, 5.95720953e-06,\n",
       "       0.00000000e+00, 1.78502359e-05, 1.12546613e-06, 0.00000000e+00,\n",
       "       6.99365550e-05, 7.29432909e-04, 2.08264865e-05, 1.47242856e-04,\n",
       "       1.99184576e-04, 3.37146667e-04, 4.35922850e-06, 1.31087530e-04,\n",
       "       3.08962892e-07, 8.94759469e-03, 2.75422511e-03, 4.71887757e-03,\n",
       "       4.16644612e-03, 1.83528642e-03, 4.83526011e-03, 4.17547683e-03,\n",
       "       3.19907039e-03, 5.52392197e-03, 4.02172483e-03, 2.53124724e-03,\n",
       "       1.52305645e-03, 5.95492036e-04, 1.26415955e-03, 2.04024116e-03,\n",
       "       2.64521103e-03, 1.67104290e-03, 1.16824283e-03, 4.40368860e-03,\n",
       "       1.64760976e-03, 1.41058029e-04, 2.22506718e-03, 2.10701244e-03,\n",
       "       1.50371878e-03, 2.68908676e-03, 2.32859715e-04, 8.01411082e-04,\n",
       "       1.93521756e-04, 2.00033499e-03, 1.92035843e-03, 7.36228909e-05,\n",
       "       4.03611293e-03, 8.80183663e-04, 2.37298573e-03, 2.83604369e-03,\n",
       "       1.35282848e-03, 1.61355500e-03, 1.12184062e-03, 1.51305392e-03,\n",
       "       3.53882169e-03, 9.89135396e-04, 1.35589923e-03, 1.18277084e-05,\n",
       "       1.85598150e-03, 2.29290003e-03, 4.61393738e-04, 2.02821986e-03,\n",
       "       2.09729040e-03, 1.78900166e-03, 2.37823388e-05, 1.17309562e-03,\n",
       "       3.93947839e-04, 1.97322157e-03, 2.09041168e-03, 9.68105301e-04,\n",
       "       2.72854333e-03, 4.23182216e-03, 8.99853757e-04, 1.32840025e-03,\n",
       "       2.16115745e-03, 1.37689407e-03, 3.27084214e-03, 4.86189790e-03,\n",
       "       1.26312297e-03, 1.84952305e-03, 3.58674637e-03, 2.96847646e-03,\n",
       "       2.60806615e-03, 3.21378003e-03, 3.08407909e-03, 2.68358448e-03,\n",
       "       3.03481041e-03, 1.82019580e-03, 1.39544303e-03, 1.99122083e-03,\n",
       "       4.22133408e-06, 5.10929654e-06, 3.44296113e-03, 1.56132314e-03,\n",
       "       2.65880900e-03, 1.31256941e-03, 3.86786438e-04, 5.68633229e-04,\n",
       "       9.93569999e-02, 9.37430879e-02, 5.16476593e-02, 7.10621151e-02,\n",
       "       8.46725337e-02])"
      ]
     },
     "execution_count": 240,
     "metadata": {
      "tags": []
     },
     "output_type": "execute_result"
    }
   ],
   "source": [
    "rf_new.feature_importances_"
   ]
  },
  {
   "cell_type": "code",
   "execution_count": 241,
   "metadata": {
    "colab": {
     "base_uri": "https://localhost:8080/",
     "height": 283
    },
    "colab_type": "code",
    "id": "cRvC7I_7VwKz",
    "outputId": "df9e1f06-47d2-4b0d-8aea-b6cc714645de"
   },
   "outputs": [
    {
     "data": {
      "text/plain": [
       "<Container object of 289 artists>"
      ]
     },
     "execution_count": 241,
     "metadata": {
      "tags": []
     },
     "output_type": "execute_result"
    },
    {
     "data": {
      "image/png": "[encoded data removed]",
      "text/plain": [
       "<matplotlib.figure.Figure at 0x7ffb86c36240>"
      ]
     },
     "metadata": {
      "tags": []
     },
     "output_type": "display_data"
    }
   ],
   "source": [
    "import matplotlib.pyplot as plt\n",
    "plt.bar(range(len(rf_new.feature_importances_)), rf_new.feature_importances_)"
   ]
  },
  {
   "cell_type": "code",
   "execution_count": 0,
   "metadata": {
    "colab": {},
    "colab_type": "code",
    "id": "b9eeeQqhHltm"
   },
   "outputs": [],
   "source": [
    "arr= np.where(rf_new.feature_importances_>0.05)\n",
    "#X_train_new.columns[2]"
   ]
  },
  {
   "cell_type": "code",
   "execution_count": 243,
   "metadata": {
    "colab": {
     "base_uri": "https://localhost:8080/",
     "height": 72
    },
    "colab_type": "code",
    "id": "6aaaLQuWIlD0",
    "outputId": "78ea9001-ee18-4f93-8e3c-20182983cbdc"
   },
   "outputs": [
    {
     "data": {
      "text/plain": [
       "Index(['Number of Existing Stories', 'Estimated Cost', 'Latitude', 'Longitude',\n",
       "       'Filed_year', 'Filed_month', 'Filed_day'],\n",
       "      dtype='object')"
      ]
     },
     "execution_count": 243,
     "metadata": {
      "tags": []
     },
     "output_type": "execute_result"
    }
   ],
   "source": [
    "imp_features = X_train_new.columns[arr]\n",
    "imp_features"
   ]
  },
  {
   "cell_type": "code",
   "execution_count": 0,
   "metadata": {
    "colab": {},
    "colab_type": "code",
    "id": "6ITemBSAI0dJ"
   },
   "outputs": [],
   "source": []
  },
  {
   "cell_type": "code",
   "execution_count": 244,
   "metadata": {
    "colab": {
     "base_uri": "https://localhost:8080/",
     "height": 35
    },
    "colab_type": "code",
    "id": "5dE1cOMZW19l",
    "outputId": "d9dd7dd6-b533-437e-83cc-db6b5eedbc4b"
   },
   "outputs": [
    {
     "data": {
      "text/plain": [
       "0.9996078602239554"
      ]
     },
     "execution_count": 244,
     "metadata": {
      "tags": []
     },
     "output_type": "execute_result"
    }
   ],
   "source": [
    "rf_new.score(X_train , y_train)"
   ]
  },
  {
   "cell_type": "code",
   "execution_count": 245,
   "metadata": {
    "colab": {
     "base_uri": "https://localhost:8080/",
     "height": 35
    },
    "colab_type": "code",
    "id": "l81ZsAtFW5yi",
    "outputId": "153b416e-5a08-4374-e281-0805d2c56ca6"
   },
   "outputs": [
    {
     "data": {
      "text/plain": [
       "0.991285909315363"
      ]
     },
     "execution_count": 245,
     "metadata": {
      "tags": []
     },
     "output_type": "execute_result"
    }
   ],
   "source": [
    "rf_new.score(X_test , y_test)"
   ]
  },
  {
   "cell_type": "code",
   "execution_count": 246,
   "metadata": {
    "colab": {
     "base_uri": "https://localhost:8080/",
     "height": 144
    },
    "colab_type": "code",
    "id": "aoVNHwI2VwIW",
    "outputId": "312eef4e-5c96-49d2-cdee-571df9148b3f"
   },
   "outputs": [
    {
     "name": "stdout",
     "output_type": "stream",
     "text": [
      "             precision    recall  f1-score   support\n",
      "\n",
      "          0       0.55      0.21      0.31       312\n",
      "          1       0.99      1.00      1.00     34115\n",
      "\n",
      "avg / total       0.99      0.99      0.99     34427\n",
      "\n"
     ]
    }
   ],
   "source": [
    "from sklearn.metrics import classification_report, confusion_matrix\n",
    "print(classification_report(y_test,rf_new.predict(X_test)))"
   ]
  },
  {
   "cell_type": "code",
   "execution_count": 247,
   "metadata": {
    "colab": {
     "base_uri": "https://localhost:8080/",
     "height": 53
    },
    "colab_type": "code",
    "id": "4R6XgAGuVv-8",
    "outputId": "eb9ba992-2cba-4d21-c7d1-75521a2e1a8f"
   },
   "outputs": [
    {
     "name": "stdout",
     "output_type": "stream",
     "text": [
      "[[   67   245]\n",
      " [   55 34060]]\n"
     ]
    }
   ],
   "source": [
    "print(confusion_matrix(y_test, rf_new.predict(X_test)))"
   ]
  },
  {
   "cell_type": "code",
   "execution_count": 0,
   "metadata": {
    "colab": {},
    "colab_type": "code",
    "id": "lHlsML4JD6XR"
   },
   "outputs": [],
   "source": []
  },
  {
   "cell_type": "code",
   "execution_count": 0,
   "metadata": {
    "colab": {},
    "colab_type": "code",
    "id": "zvTpHXmBD6gS"
   },
   "outputs": [],
   "source": [
    "import pickle"
   ]
  },
  {
   "cell_type": "code",
   "execution_count": 0,
   "metadata": {
    "colab": {},
    "colab_type": "code",
    "id": "zP2wbw29D6UH"
   },
   "outputs": [],
   "source": [
    "pickle.dump(rf_new, open(path + \"model.sav\", 'wb'))"
   ]
  },
  {
   "cell_type": "code",
   "execution_count": 0,
   "metadata": {
    "colab": {},
    "colab_type": "code",
    "id": "HQHWC0kED6RA"
   },
   "outputs": [],
   "source": []
  },
  {
   "cell_type": "markdown",
   "metadata": {
    "colab_type": "text",
    "id": "gpnRbt2nlkXi"
   },
   "source": [
    "# Hyperparamter Tuning "
   ]
  },
  {
   "cell_type": "code",
   "execution_count": 0,
   "metadata": {
    "colab": {},
    "colab_type": "code",
    "id": "v6z4cSydl04z"
   },
   "outputs": [],
   "source": [
    "#Generate a graph that looks at the variation of Precision, Recall & F1-Score with the n_estimators HyperParameter\n",
    "from sklearn.metrics import f1_score, precision_score, recall_score\n",
    "\n",
    "f1_score_train = []\n",
    "precision_train = []\n",
    "recall_train = []\n",
    "\n",
    "f1_score_test = []\n",
    "precision_test = []\n",
    "recall_test = []\n",
    "n_estimators = [5,10,50,100,150,200]\n",
    "for hp in n_estimators:\n",
    "  rf_model_tune = RandomForestClassifier(n_estimators = hp)\n",
    "  rf_model_tune.fit(X_train_new, y_train_new)\n",
    "  \n",
    "  f1_score_train.append(f1_score(y_train_new,rf_model_tune.predict(X_train_new)))\n",
    "  precision_train.append(precision_score(y_train_new,rf_model_tune.predict(X_train_new)))\n",
    "  recall_train.append(recall_score(y_train_new,rf_model_tune.predict(X_train_new)))\n",
    "  \n",
    "  f1_score_test.append(f1_score(y_test,rf_model_tune.predict(X_test)))\n",
    "  precision_test.append(precision_score(y_test,rf_model_tune.predict(X_test)))\n",
    "  recall_test.append(recall_score(y_test,rf_model_tune.predict(X_test)))"
   ]
  },
  {
   "cell_type": "code",
   "execution_count": 170,
   "metadata": {
    "colab": {
     "base_uri": "https://localhost:8080/",
     "height": 284
    },
    "colab_type": "code",
    "id": "9-y6_iNWtq-3",
    "outputId": "4e622d38-bc44-481e-e453-f46166161fa2"
   },
   "outputs": [
    {
     "data": {
      "text/plain": [
       "<matplotlib.legend.Legend at 0x7fc451576630>"
      ]
     },
     "execution_count": 170,
     "metadata": {
      "tags": []
     },
     "output_type": "execute_result"
    },
    {
     "data": {
      "image/png": "[encoded data removed]",
      "text/plain": [
       "<matplotlib.figure.Figure at 0x7fc455a6e128>"
      ]
     },
     "metadata": {
      "tags": []
     },
     "output_type": "display_data"
    }
   ],
   "source": [
    "#Visualize the evaluation metrics\n",
    "plt.style.use('ggplot')\n",
    "plt.plot(n_estimators,f1_score_train, color = 'red', label = \"Training Set F1 Score\")\n",
    "plt.plot(n_estimators,f1_score_test, color = 'blue', label = \"Test Set F1 Score\")\n",
    "plt.legend()"
   ]
  }
 ],
 "metadata": {
  "colab": {
   "collapsed_sections": [],
   "name": "permit",
   "provenance": [],
   "version": "0.3.2"
  },
  "kernelspec": {
   "display_name": "Python 3",
   "language": "python",
   "name": "python3"
  },
  "language_info": {
   "codemirror_mode": {
    "name": "ipython",
    "version": 3
   },
   "file_extension": ".py",
   "mimetype": "text/x-python",
   "name": "python",
   "nbconvert_exporter": "python",
   "pygments_lexer": "ipython3",
   "version": "3.7.1"
  }
 },
 "nbformat": 4,
 "nbformat_minor": 1
}
