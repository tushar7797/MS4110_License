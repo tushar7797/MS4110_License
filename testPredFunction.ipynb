{
 "cells": [
  {
   "cell_type": "code",
   "execution_count": 8,
   "metadata": {},
   "outputs": [],
   "source": [
    "#importing neceassary libraries\n",
    "import numpy as np\n",
    "import pandas as pd\n",
    "import sklearn\n",
    "from matplotlib import pyplot as plt\n",
    "import pickle\n",
    "%matplotlib inline"
   ]
  },
  {
   "cell_type": "code",
   "execution_count": 9,
   "metadata": {},
   "outputs": [],
   "source": [
    "def prediciton(filename,model):\n",
    "    data = pd.read_csv(filename)\n",
    "    data3 = data.copy()\n",
    "    data3.drop(['Permit Number', 'Permit Type Definition',\n",
    "           'Permit Creation Date', 'Block', 'Lot', 'Street Number',\n",
    "           'Street Number Suffix', 'Street Name', 'Street Suffix', 'Unit',\n",
    "           'Unit Suffix','Record ID'], axis = 1, inplace = True)\n",
    "    j=0\n",
    "\n",
    "    permit_type_onehot = pd.get_dummies(data3['Permit Type'],dummy_na= True)\n",
    "    (a,b) = np.shape(permit_type_onehot)\n",
    "    permit_type_onehot.columns = [i +j for i in range(b)]\n",
    "    j = j +b\n",
    "\n",
    "    existing_use_onehot  =  pd.get_dummies(data3['Existing Use'],dummy_na= True)\n",
    "    (a,b) = np.shape(existing_use_onehot)\n",
    "    existing_use_onehot.columns = [i+j for i in range(b)]\n",
    "    j = j+b\n",
    "\n",
    "\n",
    "    proposed_use_onehot  =  pd.get_dummies(data3['Proposed Use'],dummy_na= True)\n",
    "    (a,b) = np.shape(proposed_use_onehot)\n",
    "    proposed_use_onehot.columns = [i+j for i in range(b)]\n",
    "    j = j+b\n",
    "\n",
    "\n",
    "    supervisor_district_onehot  =  pd.get_dummies(data3['Supervisor District'],dummy_na= True)\n",
    "    (a,b) = np.shape(supervisor_district_onehot)\n",
    "    supervisor_district_onehot.columns = [i+j for i in range(b)]\n",
    "    j = j+b\n",
    "\n",
    "    neighborhood_onehot  =  pd.get_dummies(data3['Neighborhoods - Analysis Boundaries'],dummy_na= True)\n",
    "    (a,b) = np.shape(neighborhood_onehot)\n",
    "    neighborhood_onehot.columns = [i+j for i in range(b)]\n",
    "    j = j+b\n",
    "\n",
    "    zipcode_onehot  =  pd.get_dummies(data3['Zipcode'],dummy_na= True)\n",
    "    (a,b) = np.shape(zipcode_onehot)\n",
    "    zipcode_onehot.columns = [i+j for i in range(b)]\n",
    "    j = j+b\n",
    "\n",
    "    data_merged = data3.drop(['Permit Type', 'Existing Use',  'Proposed Use', 'Supervisor District',\n",
    "                              'Neighborhoods - Analysis Boundaries', 'Zipcode'], axis = 1)\n",
    "\n",
    "    data_merged = data_merged.join(permit_type_onehot)\n",
    "    data_merged = data_merged.join(existing_use_onehot)\n",
    "    data_merged = data_merged.join(proposed_use_onehot)\n",
    "    data_merged = data_merged.join(supervisor_district_onehot)\n",
    "    data_merged = data_merged.join(neighborhood_onehot)\n",
    "    data_merged = data_merged.join(zipcode_onehot)\n",
    "\n",
    "\n",
    "\n",
    "    print(data_merged.head())\n",
    "    \n",
    "    data4=data.copy()\n",
    "    combined= data4['Location'].str.strip('()').str.split(', ', expand=True).rename(columns={0:'Latitude', 1:'Longitude'})\n",
    "    data4['Latitude']= combined['Latitude']\n",
    "    data4['Longitude']= combined['Longitude']\n",
    "    data4['Latitude'] = data4['Latitude'].apply(pd.to_numeric, errors='coerce')\n",
    "    data4['Longitude'] = data4['Longitude'].apply(pd.to_numeric, errors='coerce')\n",
    "    data4['Longitude']=(data4['Longitude']- data4['Longitude'].min())/( data4['Longitude'].max()- data4['Longitude'].min())\n",
    "    data4['Latitude']=(data4['Latitude']- data4['Latitude'].min())/( data4['Latitude'].max()- data4['Latitude'].min())\n",
    "    data_merged['Latitude'] = data4['Latitude']\n",
    "    data_merged['Longitude'] = data4['Longitude']\n",
    "    print(data_merged.columns)\n",
    "    \n",
    "    from datetime import datetime\n",
    "\n",
    "    year_1 = lambda x: datetime.strptime(x, \"%m/%d/%Y\" ).year\n",
    "    data_merged['Filed_year'] = data_merged['Filed Date'].map(year_1)\n",
    "\n",
    "\n",
    "    month_1 = lambda x: datetime.strptime(x, \"%m/%d/%Y\" ).month\n",
    "    data_merged['Filed_month'] = data_merged['Filed Date'].map(month_1)\n",
    "\n",
    "\n",
    "    day_1 = lambda x: datetime.strptime(x, \"%m/%d/%Y\" ).day\n",
    "    data_merged['Filed_day'] = data_merged['Filed Date'].map(day_1)\n",
    "\n",
    "    data_merged.drop(['Filed Date', 'Location'], axis =1, inplace = True)\n",
    "    \n",
    "    data5 = data_merged\n",
    "    \n",
    "    from sklearn.preprocessing import Imputer\n",
    "    imputer_mean = Imputer(missing_values='NaN', strategy='mean', axis=0)\n",
    "    imputer_mode = Imputer(missing_values='NaN', strategy='most_frequent', axis=0)\n",
    "    \n",
    "    imputer_mean.fit(data5)\n",
    "    X_new= imputer_mean.transform(data5)\n",
    "    X_new= pd.DataFrame(X_new ,columns= data5.columns)\n",
    "    \n",
    "    X = X_new.values\n",
    "    \n",
    "    y_pred = model.predict(X)\n",
    "    \n",
    "    return y_pred "
   ]
  },
  {
   "cell_type": "code",
   "execution_count": 10,
   "metadata": {
    "scrolled": true
   },
   "outputs": [
    {
     "name": "stderr",
     "output_type": "stream",
     "text": [
      "/home/aniket/anaconda3/lib/python3.6/site-packages/sklearn/base.py:251: UserWarning: Trying to unpickle estimator DecisionTreeClassifier from version 0.19.2 when using version 0.20.0. This might lead to breaking code or invalid results. Use at your own risk.\n",
      "  UserWarning)\n",
      "/home/aniket/anaconda3/lib/python3.6/site-packages/sklearn/base.py:251: UserWarning: Trying to unpickle estimator RandomForestClassifier from version 0.19.2 when using version 0.20.0. This might lead to breaking code or invalid results. Use at your own risk.\n",
      "  UserWarning)\n"
     ]
    },
    {
     "name": "stdout",
     "output_type": "stream",
     "text": [
      "   Filed Date  Number of Existing Stories  Number of Proposed Stories  \\\n",
      "0  05/06/2015                         6.0                         NaN   \n",
      "1  04/19/2016                         7.0                         NaN   \n",
      "2  11/07/2016                         2.0                         2.0   \n",
      "3  11/28/2016                         3.0                         NaN   \n",
      "4  06/14/2017                         5.0                         5.0   \n",
      "\n",
      "   Estimated Cost  Existing Units  Proposed Units  \\\n",
      "0          4000.0           143.0             NaN   \n",
      "1             1.0             NaN             NaN   \n",
      "2          2000.0             1.0             1.0   \n",
      "3        100000.0             NaN             NaN   \n",
      "4          4000.0           326.0           326.0   \n",
      "\n",
      "                                    Location  0  1  2 ...   269  270  271  \\\n",
      "0  (37.785719256680785, -122.40852313194863)  0  0  0 ...     0    0    0   \n",
      "1   (37.78733980600732, -122.41063199757738)  0  0  0 ...     0    0    0   \n",
      "2   (37.79595867909168, -122.41557405519474)  0  0  0 ...     0    0    0   \n",
      "3   (37.78315261897309, -122.40950883997789)  0  0  0 ...     0    0    0   \n",
      "4   (37.75922331346539, -122.39170402628598)  0  0  0 ...     0    0    0   \n",
      "\n",
      "   272  273  274  275  276  277  278  \n",
      "0    0    0    0    0    0    0    0  \n",
      "1    0    0    0    0    0    0    0  \n",
      "2    0    0    0    0    0    0    0  \n",
      "3    0    0    0    0    0    0    0  \n",
      "4    0    0    0    0    0    0    0  \n",
      "\n",
      "[5 rows x 286 columns]\n",
      "Index([                'Filed Date', 'Number of Existing Stories',\n",
      "       'Number of Proposed Stories',             'Estimated Cost',\n",
      "                   'Existing Units',             'Proposed Units',\n",
      "                         'Location',                            0,\n",
      "                                  1,                            2,\n",
      "       ...\n",
      "                                271,                          272,\n",
      "                                273,                          274,\n",
      "                                275,                          276,\n",
      "                                277,                          278,\n",
      "                         'Latitude',                  'Longitude'],\n",
      "      dtype='object', length=288)\n"
     ]
    },
    {
     "name": "stderr",
     "output_type": "stream",
     "text": [
      "/home/aniket/anaconda3/lib/python3.6/site-packages/sklearn/utils/deprecation.py:58: DeprecationWarning: Class Imputer is deprecated; Imputer was deprecated in version 0.20 and will be removed in 0.22. Import impute.SimpleImputer from sklearn instead.\n",
      "  warnings.warn(msg, category=DeprecationWarning)\n",
      "/home/aniket/anaconda3/lib/python3.6/site-packages/sklearn/utils/deprecation.py:58: DeprecationWarning: Class Imputer is deprecated; Imputer was deprecated in version 0.20 and will be removed in 0.22. Import impute.SimpleImputer from sklearn instead.\n",
      "  warnings.warn(msg, category=DeprecationWarning)\n"
     ]
    }
   ],
   "source": [
    "import pickle\n",
    "\n",
    "model = pickle.load(open(\"model.sav\", 'rb'))\n",
    "\n",
    "y_pred = prediciton(\"1.csv\", model)"
   ]
  },
  {
   "cell_type": "code",
   "execution_count": 12,
   "metadata": {},
   "outputs": [
    {
     "data": {
      "text/plain": [
       "array([   415, 171718])"
      ]
     },
     "execution_count": 12,
     "metadata": {},
     "output_type": "execute_result"
    }
   ],
   "source": [
    "np.bincount(y_pred)"
   ]
  },
  {
   "cell_type": "code",
   "execution_count": null,
   "metadata": {},
   "outputs": [],
   "source": []
  }
 ],
 "metadata": {
  "kernelspec": {
   "display_name": "Python 3",
   "language": "python",
   "name": "python3"
  },
  "language_info": {
   "codemirror_mode": {
    "name": "ipython",
    "version": 3
   },
   "file_extension": ".py",
   "mimetype": "text/x-python",
   "name": "python",
   "nbconvert_exporter": "python",
   "pygments_lexer": "ipython3",
   "version": "3.6.5"
  }
 },
 "nbformat": 4,
 "nbformat_minor": 2
}
